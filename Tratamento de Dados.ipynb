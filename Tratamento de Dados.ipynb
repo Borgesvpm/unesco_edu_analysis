{
 "cells": [
  {
   "cell_type": "markdown",
   "id": "bb19e1ed",
   "metadata": {},
   "source": [
    "# Lista de perguntas\n",
    "- Crianças e adolescentes fora da escola vs gasto governamental com educação\n",
    "- População analfabeta vs gasto governamental com educação\n",
    "- Taxa de crianças que completam a educação primária vs gasto governamental com educação"
   ]
  },
  {
   "cell_type": "code",
   "execution_count": 3,
   "id": "da70f655",
   "metadata": {},
   "outputs": [
    {
     "data": {
      "text/plain": [
       "['DirEntry',\n",
       " 'F_OK',\n",
       " 'GenericAlias',\n",
       " 'Mapping',\n",
       " 'MutableMapping',\n",
       " 'O_APPEND',\n",
       " 'O_BINARY',\n",
       " 'O_CREAT',\n",
       " 'O_EXCL',\n",
       " 'O_NOINHERIT',\n",
       " 'O_RANDOM',\n",
       " 'O_RDONLY',\n",
       " 'O_RDWR',\n",
       " 'O_SEQUENTIAL',\n",
       " 'O_SHORT_LIVED',\n",
       " 'O_TEMPORARY',\n",
       " 'O_TEXT',\n",
       " 'O_TRUNC',\n",
       " 'O_WRONLY',\n",
       " 'P_DETACH',\n",
       " 'P_NOWAIT',\n",
       " 'P_NOWAITO',\n",
       " 'P_OVERLAY',\n",
       " 'P_WAIT',\n",
       " 'PathLike',\n",
       " 'R_OK',\n",
       " 'SEEK_CUR',\n",
       " 'SEEK_END',\n",
       " 'SEEK_SET',\n",
       " 'TMP_MAX',\n",
       " 'W_OK',\n",
       " 'X_OK',\n",
       " '_AddedDllDirectory',\n",
       " '_Environ',\n",
       " '__all__',\n",
       " '__builtins__',\n",
       " '__cached__',\n",
       " '__doc__',\n",
       " '__file__',\n",
       " '__loader__',\n",
       " '__name__',\n",
       " '__package__',\n",
       " '__spec__',\n",
       " '_check_methods',\n",
       " '_execvpe',\n",
       " '_exists',\n",
       " '_exit',\n",
       " '_fspath',\n",
       " '_get_exports_list',\n",
       " '_walk',\n",
       " '_wrap_close',\n",
       " 'abc',\n",
       " 'abort',\n",
       " 'access',\n",
       " 'add_dll_directory',\n",
       " 'altsep',\n",
       " 'chdir',\n",
       " 'chmod',\n",
       " 'close',\n",
       " 'closerange',\n",
       " 'cpu_count',\n",
       " 'curdir',\n",
       " 'defpath',\n",
       " 'device_encoding',\n",
       " 'devnull',\n",
       " 'dup',\n",
       " 'dup2',\n",
       " 'environ',\n",
       " 'error',\n",
       " 'execl',\n",
       " 'execle',\n",
       " 'execlp',\n",
       " 'execlpe',\n",
       " 'execv',\n",
       " 'execve',\n",
       " 'execvp',\n",
       " 'execvpe',\n",
       " 'extsep',\n",
       " 'fdopen',\n",
       " 'fsdecode',\n",
       " 'fsencode',\n",
       " 'fspath',\n",
       " 'fstat',\n",
       " 'fsync',\n",
       " 'ftruncate',\n",
       " 'get_exec_path',\n",
       " 'get_handle_inheritable',\n",
       " 'get_inheritable',\n",
       " 'get_terminal_size',\n",
       " 'getcwd',\n",
       " 'getcwdb',\n",
       " 'getenv',\n",
       " 'getlogin',\n",
       " 'getpid',\n",
       " 'getppid',\n",
       " 'isatty',\n",
       " 'kill',\n",
       " 'linesep',\n",
       " 'link',\n",
       " 'listdir',\n",
       " 'lseek',\n",
       " 'lstat',\n",
       " 'makedirs',\n",
       " 'mkdir',\n",
       " 'name',\n",
       " 'open',\n",
       " 'pardir',\n",
       " 'path',\n",
       " 'pathsep',\n",
       " 'pipe',\n",
       " 'popen',\n",
       " 'putenv',\n",
       " 'read',\n",
       " 'readlink',\n",
       " 'remove',\n",
       " 'removedirs',\n",
       " 'rename',\n",
       " 'renames',\n",
       " 'replace',\n",
       " 'rmdir',\n",
       " 'scandir',\n",
       " 'sep',\n",
       " 'set_handle_inheritable',\n",
       " 'set_inheritable',\n",
       " 'spawnl',\n",
       " 'spawnle',\n",
       " 'spawnv',\n",
       " 'spawnve',\n",
       " 'st',\n",
       " 'startfile',\n",
       " 'stat',\n",
       " 'stat_result',\n",
       " 'statvfs_result',\n",
       " 'strerror',\n",
       " 'supports_bytes_environ',\n",
       " 'supports_dir_fd',\n",
       " 'supports_effective_ids',\n",
       " 'supports_fd',\n",
       " 'supports_follow_symlinks',\n",
       " 'symlink',\n",
       " 'sys',\n",
       " 'system',\n",
       " 'terminal_size',\n",
       " 'times',\n",
       " 'times_result',\n",
       " 'truncate',\n",
       " 'umask',\n",
       " 'uname_result',\n",
       " 'unlink',\n",
       " 'unsetenv',\n",
       " 'urandom',\n",
       " 'utime',\n",
       " 'waitpid',\n",
       " 'waitstatus_to_exitcode',\n",
       " 'walk',\n",
       " 'write']"
      ]
     },
     "execution_count": 3,
     "metadata": {},
     "output_type": "execute_result"
    }
   ],
   "source": [
    "import os\n",
    "dir(os)"
   ]
  },
  {
   "cell_type": "code",
   "execution_count": 4,
   "id": "6d4f5b74",
   "metadata": {},
   "outputs": [
    {
     "data": {
      "text/plain": [
       "['Adolescents_out_of_school.csv',\n",
       " 'Children_out_of_school.csv',\n",
       " 'Government_exp_const_usd.csv',\n",
       " 'Government_exp_gdp.csv',\n",
       " 'Illetarate_perc_female.csv',\n",
       " 'Illetarate_population.csv',\n",
       " 'Mean_years_schooling.csv',\n",
       " 'Survival_rate_primary_ed.csv',\n",
       " 'Teacher_comp_perc_public_inst.csv']"
      ]
     },
     "execution_count": 4,
     "metadata": {},
     "output_type": "execute_result"
    }
   ],
   "source": [
    "data_list = [file for file in os.listdir() if file.endswith(\".csv\")]\n",
    "data_list"
   ]
  },
  {
   "cell_type": "code",
   "execution_count": 5,
   "id": "15abf47a",
   "metadata": {},
   "outputs": [
    {
     "data": {
      "text/html": [
       "<div>\n",
       "<style scoped>\n",
       "    .dataframe tbody tr th:only-of-type {\n",
       "        vertical-align: middle;\n",
       "    }\n",
       "\n",
       "    .dataframe tbody tr th {\n",
       "        vertical-align: top;\n",
       "    }\n",
       "\n",
       "    .dataframe thead th {\n",
       "        text-align: right;\n",
       "    }\n",
       "</style>\n",
       "<table border=\"1\" class=\"dataframe\">\n",
       "  <thead>\n",
       "    <tr style=\"text-align: right;\">\n",
       "      <th></th>\n",
       "      <th>NATMON_IND</th>\n",
       "      <th>Indicator</th>\n",
       "      <th>LOCATION</th>\n",
       "      <th>Country</th>\n",
       "      <th>TIME</th>\n",
       "      <th>Time</th>\n",
       "      <th>Value</th>\n",
       "      <th>Flag Codes</th>\n",
       "      <th>Flags</th>\n",
       "    </tr>\n",
       "  </thead>\n",
       "  <tbody>\n",
       "    <tr>\n",
       "      <th>29</th>\n",
       "      <td>OFST_2_F_CP</td>\n",
       "      <td>Out-of-school adolescents of lower secondary s...</td>\n",
       "      <td>URY</td>\n",
       "      <td>Uruguay</td>\n",
       "      <td>2017</td>\n",
       "      <td>2017</td>\n",
       "      <td>1171.0</td>\n",
       "      <td>+</td>\n",
       "      <td>National Estimation</td>\n",
       "    </tr>\n",
       "    <tr>\n",
       "      <th>30</th>\n",
       "      <td>OFST_2_F_CP</td>\n",
       "      <td>Out-of-school adolescents of lower secondary s...</td>\n",
       "      <td>URY</td>\n",
       "      <td>Uruguay</td>\n",
       "      <td>2019</td>\n",
       "      <td>2019</td>\n",
       "      <td>338.0</td>\n",
       "      <td>+</td>\n",
       "      <td>National Estimation</td>\n",
       "    </tr>\n",
       "    <tr>\n",
       "      <th>31</th>\n",
       "      <td>OFST_2_F_CP</td>\n",
       "      <td>Out-of-school adolescents of lower secondary s...</td>\n",
       "      <td>URY</td>\n",
       "      <td>Uruguay</td>\n",
       "      <td>2020</td>\n",
       "      <td>2020</td>\n",
       "      <td>762.0</td>\n",
       "      <td>+</td>\n",
       "      <td>National Estimation</td>\n",
       "    </tr>\n",
       "    <tr>\n",
       "      <th>45</th>\n",
       "      <td>OFST_2_M_CP</td>\n",
       "      <td>Out-of-school adolescents of lower secondary s...</td>\n",
       "      <td>CHE</td>\n",
       "      <td>Switzerland</td>\n",
       "      <td>2017</td>\n",
       "      <td>2017</td>\n",
       "      <td>147.0</td>\n",
       "      <td>+</td>\n",
       "      <td>National Estimation</td>\n",
       "    </tr>\n",
       "    <tr>\n",
       "      <th>46</th>\n",
       "      <td>OFST_2_M_CP</td>\n",
       "      <td>Out-of-school adolescents of lower secondary s...</td>\n",
       "      <td>CHE</td>\n",
       "      <td>Switzerland</td>\n",
       "      <td>2018</td>\n",
       "      <td>2018</td>\n",
       "      <td>381.0</td>\n",
       "      <td>+</td>\n",
       "      <td>National Estimation</td>\n",
       "    </tr>\n",
       "    <tr>\n",
       "      <th>...</th>\n",
       "      <td>...</td>\n",
       "      <td>...</td>\n",
       "      <td>...</td>\n",
       "      <td>...</td>\n",
       "      <td>...</td>\n",
       "      <td>...</td>\n",
       "      <td>...</td>\n",
       "      <td>...</td>\n",
       "      <td>...</td>\n",
       "    </tr>\n",
       "    <tr>\n",
       "      <th>2234</th>\n",
       "      <td>OFST_2_M_CP</td>\n",
       "      <td>Out-of-school adolescents of lower secondary s...</td>\n",
       "      <td>ISR</td>\n",
       "      <td>Israel</td>\n",
       "      <td>2017</td>\n",
       "      <td>2017</td>\n",
       "      <td>5994.0</td>\n",
       "      <td>+</td>\n",
       "      <td>National Estimation</td>\n",
       "    </tr>\n",
       "    <tr>\n",
       "      <th>2235</th>\n",
       "      <td>OFST_2_M_CP</td>\n",
       "      <td>Out-of-school adolescents of lower secondary s...</td>\n",
       "      <td>ISR</td>\n",
       "      <td>Israel</td>\n",
       "      <td>2018</td>\n",
       "      <td>2018</td>\n",
       "      <td>6583.0</td>\n",
       "      <td>+</td>\n",
       "      <td>National Estimation</td>\n",
       "    </tr>\n",
       "    <tr>\n",
       "      <th>2236</th>\n",
       "      <td>OFST_2_M_CP</td>\n",
       "      <td>Out-of-school adolescents of lower secondary s...</td>\n",
       "      <td>ISR</td>\n",
       "      <td>Israel</td>\n",
       "      <td>2019</td>\n",
       "      <td>2019</td>\n",
       "      <td>7161.0</td>\n",
       "      <td>+</td>\n",
       "      <td>National Estimation</td>\n",
       "    </tr>\n",
       "    <tr>\n",
       "      <th>2237</th>\n",
       "      <td>OFST_2_M_CP</td>\n",
       "      <td>Out-of-school adolescents of lower secondary s...</td>\n",
       "      <td>ISR</td>\n",
       "      <td>Israel</td>\n",
       "      <td>2020</td>\n",
       "      <td>2020</td>\n",
       "      <td>7365.0</td>\n",
       "      <td>+</td>\n",
       "      <td>National Estimation</td>\n",
       "    </tr>\n",
       "    <tr>\n",
       "      <th>2238</th>\n",
       "      <td>OFST_2_M_CP</td>\n",
       "      <td>Out-of-school adolescents of lower secondary s...</td>\n",
       "      <td>ISR</td>\n",
       "      <td>Israel</td>\n",
       "      <td>2021</td>\n",
       "      <td>2021</td>\n",
       "      <td>6891.0</td>\n",
       "      <td>+</td>\n",
       "      <td>National Estimation</td>\n",
       "    </tr>\n",
       "  </tbody>\n",
       "</table>\n",
       "<p>732 rows × 9 columns</p>\n",
       "</div>"
      ],
      "text/plain": [
       "       NATMON_IND                                          Indicator LOCATION  \\\n",
       "29    OFST_2_F_CP  Out-of-school adolescents of lower secondary s...      URY   \n",
       "30    OFST_2_F_CP  Out-of-school adolescents of lower secondary s...      URY   \n",
       "31    OFST_2_F_CP  Out-of-school adolescents of lower secondary s...      URY   \n",
       "45    OFST_2_M_CP  Out-of-school adolescents of lower secondary s...      CHE   \n",
       "46    OFST_2_M_CP  Out-of-school adolescents of lower secondary s...      CHE   \n",
       "...           ...                                                ...      ...   \n",
       "2234  OFST_2_M_CP  Out-of-school adolescents of lower secondary s...      ISR   \n",
       "2235  OFST_2_M_CP  Out-of-school adolescents of lower secondary s...      ISR   \n",
       "2236  OFST_2_M_CP  Out-of-school adolescents of lower secondary s...      ISR   \n",
       "2237  OFST_2_M_CP  Out-of-school adolescents of lower secondary s...      ISR   \n",
       "2238  OFST_2_M_CP  Out-of-school adolescents of lower secondary s...      ISR   \n",
       "\n",
       "          Country  TIME  Time   Value Flag Codes                Flags  \n",
       "29        Uruguay  2017  2017  1171.0          +  National Estimation  \n",
       "30        Uruguay  2019  2019   338.0          +  National Estimation  \n",
       "31        Uruguay  2020  2020   762.0          +  National Estimation  \n",
       "45    Switzerland  2017  2017   147.0          +  National Estimation  \n",
       "46    Switzerland  2018  2018   381.0          +  National Estimation  \n",
       "...           ...   ...   ...     ...        ...                  ...  \n",
       "2234       Israel  2017  2017  5994.0          +  National Estimation  \n",
       "2235       Israel  2018  2018  6583.0          +  National Estimation  \n",
       "2236       Israel  2019  2019  7161.0          +  National Estimation  \n",
       "2237       Israel  2020  2020  7365.0          +  National Estimation  \n",
       "2238       Israel  2021  2021  6891.0          +  National Estimation  \n",
       "\n",
       "[732 rows x 9 columns]"
      ]
     },
     "execution_count": 5,
     "metadata": {},
     "output_type": "execute_result"
    }
   ],
   "source": [
    "import pandas as pd\n",
    "import numpy as np\n",
    "import matplotlib.pyplot as plt\n",
    "\n",
    "df_adol = pd.read_csv(data_list[0])\n",
    "df_adol[df_adol[\"Flags\"]==\"National Estimation\"]"
   ]
  },
  {
   "cell_type": "markdown",
   "id": "5a1b6545",
   "metadata": {},
   "source": [
    "# Gasto governamental em educação vs índice de crianças fora da escola"
   ]
  },
  {
   "cell_type": "code",
   "execution_count": 32,
   "id": "7df1d26e",
   "metadata": {},
   "outputs": [
    {
     "data": {
      "text/plain": [
       "(           NATMON_IND                                          Indicator  \\\n",
       " 0  X_USCONST_02_FSGOV  Government expenditure on pre-primary educatio...   \n",
       " 1  X_USCONST_02_FSGOV  Government expenditure on pre-primary educatio...   \n",
       " 2  X_USCONST_02_FSGOV  Government expenditure on pre-primary educatio...   \n",
       " 3   X_USCONST_2_FSGOV  Government expenditure on lower secondary educ...   \n",
       " 4   X_USCONST_2_FSGOV  Government expenditure on lower secondary educ...   \n",
       " \n",
       "   LOCATION Country  TIME  Time        Value Flag Codes Flags  \n",
       " 0      GRC  Greece  2017  2017    538.50359        NaN   NaN  \n",
       " 1      GRC  Greece  2018  2018    557.72537        NaN   NaN  \n",
       " 2      GRC  Greece  2019  2019    588.75234        NaN   NaN  \n",
       " 3      IND   India  2017  2017  14367.64709        NaN   NaN  \n",
       " 4      IND   India  2018  2018  15425.28270        NaN   NaN  ,\n",
       "   NATMON_IND                                          Indicator LOCATION  \\\n",
       " 0  OFST_1_CP  Out-of-school children of primary school age, ...      MLT   \n",
       " 1  OFST_1_CP  Out-of-school children of primary school age, ...      MLT   \n",
       " 2  OFST_1_CP  Out-of-school children of primary school age, ...      MLT   \n",
       " 3  OFST_1_CP  Out-of-school children of primary school age, ...      MLT   \n",
       " 4  OFST_1_CP  Out-of-school children of primary school age, ...      MLT   \n",
       " \n",
       "   Country  TIME  Time   Value Flag Codes                Flags  \n",
       " 0   Malta  2017  2017   274.0          +  National Estimation  \n",
       " 1   Malta  2018  2018   229.0          +  National Estimation  \n",
       " 2   Malta  2019  2019   626.0          +  National Estimation  \n",
       " 3   Malta  2020  2020  1015.0          +  National Estimation  \n",
       " 4   Malta  2021  2021  1431.0          +  National Estimation  )"
      ]
     },
     "execution_count": 32,
     "metadata": {},
     "output_type": "execute_result"
    }
   ],
   "source": [
    "# Load the new dataset for government expenditure\n",
    "government_expenditure = pd.read_csv('Government_exp_const_usd.csv')\n",
    "\n",
    "# Load the dataset for children out of school again to ensure consistency\n",
    "children_out_of_school = pd.read_csv('Children_out_of_school.csv')\n",
    "\n",
    "# Display the first few rows of the new dataset to understand its structure\n",
    "government_expenditure.head(), children_out_of_school.head()\n"
   ]
  },
  {
   "cell_type": "code",
   "execution_count": 38,
   "id": "699d2d33",
   "metadata": {},
   "outputs": [
    {
     "data": {
      "application/vnd.plotly.v1+json": {
       "config": {
        "plotlyServerURL": "https://plot.ly"
       },
       "data": [
        {
         "coloraxis": "coloraxis",
         "geo": "geo",
         "hovertemplate": "<b>%{hovertext}</b><br><br>Country=%{location}<br>Correlation=%{z}<extra></extra>",
         "hovertext": [
          "Albania",
          "Andorra",
          "Argentina",
          "Armenia",
          "Australia",
          "Austria",
          "Azerbaijan",
          "Bahrain",
          "Barbados",
          "Belarus",
          "Belgium",
          "Belize",
          "Benin",
          "Bhutan",
          "Bolivia (Plurinational State of)",
          "Bosnia and Herzegovina",
          "Brazil",
          "Bulgaria",
          "Burkina Faso",
          "Burundi",
          "Cabo Verde",
          "Cambodia",
          "Cameroon",
          "Canada",
          "Chad",
          "Chile",
          "China, Hong Kong Special Administrative Region",
          "China, Macao Special Administrative Region",
          "Colombia",
          "Congo",
          "Costa Rica",
          "Croatia",
          "Cyprus",
          "Czechia",
          "Côte d'Ivoire",
          "Denmark",
          "Djibouti",
          "Dominica",
          "Dominican Republic",
          "Ecuador",
          "Egypt",
          "Estonia",
          "Finland",
          "France",
          "Gambia",
          "Georgia",
          "Germany",
          "Ghana",
          "Greece",
          "Grenada",
          "Guatemala",
          "Guinea",
          "Honduras",
          "Hungary",
          "Iceland",
          "India",
          "Iran (Islamic Republic of)",
          "Ireland",
          "Israel",
          "Italy",
          "Jamaica",
          "Jordan",
          "Kazakhstan",
          "Kyrgyzstan",
          "Latvia",
          "Lesotho",
          "Liberia",
          "Lithuania",
          "Luxembourg",
          "Madagascar",
          "Malaysia",
          "Maldives",
          "Mali",
          "Malta",
          "Marshall Islands",
          "Mauritania",
          "Mauritius",
          "Mexico",
          "Mongolia",
          "Mozambique",
          "Myanmar",
          "Namibia",
          "Nepal",
          "Netherlands",
          "New Zealand",
          "Niger",
          "Norway",
          "Oman",
          "Pakistan",
          "Palestine",
          "Papua New Guinea",
          "Paraguay",
          "Peru",
          "Poland",
          "Portugal",
          "Qatar",
          "Republic of Korea",
          "Republic of Moldova",
          "Romania",
          "Russian Federation",
          "Rwanda",
          "Saint Kitts and Nevis",
          "Saint Lucia",
          "Saint Vincent and the Grenadines",
          "San Marino",
          "Sao Tome and Principe",
          "Serbia",
          "Sierra Leone",
          "Singapore",
          "Slovakia",
          "Slovenia",
          "South Africa",
          "Spain",
          "Sri Lanka",
          "Sweden",
          "Switzerland",
          "Timor-Leste",
          "Togo",
          "Trinidad and Tobago",
          "Turks and Caicos Islands",
          "Türkiye",
          "Uganda",
          "Ukraine",
          "United Arab Emirates",
          "United Kingdom of Great Britain and Northern Ireland",
          "United Republic of Tanzania",
          "United States of America",
          "Uruguay",
          "Uzbekistan",
          "Vanuatu",
          "Viet Nam",
          "Zambia",
          "Zimbabwe"
         ],
         "locationmode": "country names",
         "locations": [
          "Albania",
          "Andorra",
          "Argentina",
          "Armenia",
          "Australia",
          "Austria",
          "Azerbaijan",
          "Bahrain",
          "Barbados",
          "Belarus",
          "Belgium",
          "Belize",
          "Benin",
          "Bhutan",
          "Bolivia (Plurinational State of)",
          "Bosnia and Herzegovina",
          "Brazil",
          "Bulgaria",
          "Burkina Faso",
          "Burundi",
          "Cabo Verde",
          "Cambodia",
          "Cameroon",
          "Canada",
          "Chad",
          "Chile",
          "China, Hong Kong Special Administrative Region",
          "China, Macao Special Administrative Region",
          "Colombia",
          "Congo",
          "Costa Rica",
          "Croatia",
          "Cyprus",
          "Czechia",
          "Côte d'Ivoire",
          "Denmark",
          "Djibouti",
          "Dominica",
          "Dominican Republic",
          "Ecuador",
          "Egypt",
          "Estonia",
          "Finland",
          "France",
          "Gambia",
          "Georgia",
          "Germany",
          "Ghana",
          "Greece",
          "Grenada",
          "Guatemala",
          "Guinea",
          "Honduras",
          "Hungary",
          "Iceland",
          "India",
          "Iran (Islamic Republic of)",
          "Ireland",
          "Israel",
          "Italy",
          "Jamaica",
          "Jordan",
          "Kazakhstan",
          "Kyrgyzstan",
          "Latvia",
          "Lesotho",
          "Liberia",
          "Lithuania",
          "Luxembourg",
          "Madagascar",
          "Malaysia",
          "Maldives",
          "Mali",
          "Malta",
          "Marshall Islands",
          "Mauritania",
          "Mauritius",
          "Mexico",
          "Mongolia",
          "Mozambique",
          "Myanmar",
          "Namibia",
          "Nepal",
          "Netherlands",
          "New Zealand",
          "Niger",
          "Norway",
          "Oman",
          "Pakistan",
          "Palestine",
          "Papua New Guinea",
          "Paraguay",
          "Peru",
          "Poland",
          "Portugal",
          "Qatar",
          "Republic of Korea",
          "Republic of Moldova",
          "Romania",
          "Russian Federation",
          "Rwanda",
          "Saint Kitts and Nevis",
          "Saint Lucia",
          "Saint Vincent and the Grenadines",
          "San Marino",
          "Sao Tome and Principe",
          "Serbia",
          "Sierra Leone",
          "Singapore",
          "Slovakia",
          "Slovenia",
          "South Africa",
          "Spain",
          "Sri Lanka",
          "Sweden",
          "Switzerland",
          "Timor-Leste",
          "Togo",
          "Trinidad and Tobago",
          "Turks and Caicos Islands",
          "Türkiye",
          "Uganda",
          "Ukraine",
          "United Arab Emirates",
          "United Kingdom of Great Britain and Northern Ireland",
          "United Republic of Tanzania",
          "United States of America",
          "Uruguay",
          "Uzbekistan",
          "Vanuatu",
          "Viet Nam",
          "Zambia",
          "Zimbabwe"
         ],
         "name": "",
         "type": "choropleth",
         "z": [
          0.02700571824515633,
          0.003247501265449769,
          -0.037099161854986386,
          0.016778947840148373,
          0.003924654194865942,
          6.502309325615823e-05,
          -0.01787817324762849,
          -8.639747080307438e-18,
          -0.007482016553081253,
          0.00313918070981101,
          -0.0006727293999443415,
          -0.017743342414502344,
          -0.04407561475821699,
          0.29508910107176656,
          -0.0006837912992197951,
          0.01871490226916862,
          0.0009436289845910563,
          0.027211686283596256,
          -0.021725654174198354,
          0.14651057079335486,
          0.0009080685149586581,
          0,
          0.4850242656459036,
          0.010412586850225716,
          0.039221315197931934,
          -0.006472035817747558,
          -0.03006376330040408,
          0.03579948303498326,
          0.01709493718171428,
          1.114855296236459e-16,
          -0.0041571894081127905,
          0.0014022625909093955,
          -0.0174741559409476,
          -0.01704639725806151,
          -0.01748991392740395,
          -0.007291984114290714,
          -0.032906855149223604,
          0.003374734038211544,
          -0.019423887405305523,
          0.006964977223597962,
          0.01472541779354748,
          -0.0029727574968243884,
          0.0016555706080654269,
          -0.0025828257527135226,
          null,
          0.14887025540616683,
          0.008409427146221166,
          0.009082633982872521,
          0.0012923668100460468,
          1.7847654024615346e-17,
          -0.005822664888545896,
          -0.0002220593095264845,
          null,
          0.002081807246016548,
          0.005980685255223528,
          -0.07966206101289754,
          -0.013186200320285358,
          0.033968541203608614,
          0.0042840198264688404,
          0.0008317837534577919,
          0.0014050864076436955,
          -0.011236244165731496,
          -0.027065899450351576,
          -0.05775986556649031,
          -0.000614327076507847,
          null,
          null,
          0.04142841155870044,
          -0.013191412833079924,
          null,
          0.013655218153454282,
          0.0011015098278493603,
          -0.014225415036215381,
          0.04145333594654786,
          0.017030685145901298,
          6.57999589358661e-18,
          -0.022651678538640287,
          -0.00560852147903458,
          -1.3336172324622626e-18,
          -0.629292092910556,
          -1.0947428821273113e-05,
          7.573925954193042e-18,
          null,
          0.0027510004264332034,
          0.023152230189057904,
          0.13842169092308676,
          0.0058033351154073995,
          -0.111309037605123,
          -0.5776275097537112,
          -0.11917355960140612,
          null,
          -0.0014565822440611104,
          0.005067454913545316,
          -0.020934021884477235,
          0.006973204834654542,
          0.06866913364711788,
          -0.006752382314952417,
          0.004424989918076486,
          -0.005262537026989815,
          0.13423799397433736,
          -0.021158045558880626,
          null,
          -0.040227980302583496,
          -0.01076524048790123,
          0.020185424528468797,
          null,
          -0.001665664213069971,
          -0.037402849796745845,
          0.030939217406904695,
          -0.034522766612176604,
          -0.024722699063181468,
          0.010627597141265701,
          -0.005957682027254911,
          0.07504439087845209,
          -0.0030732562193556247,
          0.0018166556611761851,
          -0.055592671675248825,
          -0.3730101267811445,
          -0.18643468717356074,
          -0.04713082308980315,
          0.00045546366158939565,
          null,
          8.727455411971905e-05,
          -0.00269553054418183,
          0.0046440351934937405,
          -0.09529877570275201,
          0.001386217331842558,
          -0.011682807468059725,
          0.0235536118898387,
          0.018029144339277787,
          null,
          -1.787171770528072e-17,
          0.014709194892719319
         ]
        }
       ],
       "layout": {
        "coloraxis": {
         "colorbar": {
          "title": {
           "text": "Correlation"
          }
         },
         "colorscale": [
          [
           0,
           "rgb(142,1,82)"
          ],
          [
           0.1,
           "rgb(197,27,125)"
          ],
          [
           0.2,
           "rgb(222,119,174)"
          ],
          [
           0.3,
           "rgb(241,182,218)"
          ],
          [
           0.4,
           "rgb(253,224,239)"
          ],
          [
           0.5,
           "rgb(247,247,247)"
          ],
          [
           0.6,
           "rgb(230,245,208)"
          ],
          [
           0.7,
           "rgb(184,225,134)"
          ],
          [
           0.8,
           "rgb(127,188,65)"
          ],
          [
           0.9,
           "rgb(77,146,33)"
          ],
          [
           1,
           "rgb(39,100,25)"
          ]
         ]
        },
        "geo": {
         "center": {},
         "domain": {
          "x": [
           0,
           1
          ],
          "y": [
           0,
           1
          ]
         },
         "projection": {
          "type": "equirectangular"
         },
         "showcoastlines": true,
         "showframe": false
        },
        "legend": {
         "tracegroupgap": 0
        },
        "template": {
         "data": {
          "bar": [
           {
            "error_x": {
             "color": "#2a3f5f"
            },
            "error_y": {
             "color": "#2a3f5f"
            },
            "marker": {
             "line": {
              "color": "#E5ECF6",
              "width": 0.5
             },
             "pattern": {
              "fillmode": "overlay",
              "size": 10,
              "solidity": 0.2
             }
            },
            "type": "bar"
           }
          ],
          "barpolar": [
           {
            "marker": {
             "line": {
              "color": "#E5ECF6",
              "width": 0.5
             },
             "pattern": {
              "fillmode": "overlay",
              "size": 10,
              "solidity": 0.2
             }
            },
            "type": "barpolar"
           }
          ],
          "carpet": [
           {
            "aaxis": {
             "endlinecolor": "#2a3f5f",
             "gridcolor": "white",
             "linecolor": "white",
             "minorgridcolor": "white",
             "startlinecolor": "#2a3f5f"
            },
            "baxis": {
             "endlinecolor": "#2a3f5f",
             "gridcolor": "white",
             "linecolor": "white",
             "minorgridcolor": "white",
             "startlinecolor": "#2a3f5f"
            },
            "type": "carpet"
           }
          ],
          "choropleth": [
           {
            "colorbar": {
             "outlinewidth": 0,
             "ticks": ""
            },
            "type": "choropleth"
           }
          ],
          "contour": [
           {
            "colorbar": {
             "outlinewidth": 0,
             "ticks": ""
            },
            "colorscale": [
             [
              0,
              "#0d0887"
             ],
             [
              0.1111111111111111,
              "#46039f"
             ],
             [
              0.2222222222222222,
              "#7201a8"
             ],
             [
              0.3333333333333333,
              "#9c179e"
             ],
             [
              0.4444444444444444,
              "#bd3786"
             ],
             [
              0.5555555555555556,
              "#d8576b"
             ],
             [
              0.6666666666666666,
              "#ed7953"
             ],
             [
              0.7777777777777778,
              "#fb9f3a"
             ],
             [
              0.8888888888888888,
              "#fdca26"
             ],
             [
              1,
              "#f0f921"
             ]
            ],
            "type": "contour"
           }
          ],
          "contourcarpet": [
           {
            "colorbar": {
             "outlinewidth": 0,
             "ticks": ""
            },
            "type": "contourcarpet"
           }
          ],
          "heatmap": [
           {
            "colorbar": {
             "outlinewidth": 0,
             "ticks": ""
            },
            "colorscale": [
             [
              0,
              "#0d0887"
             ],
             [
              0.1111111111111111,
              "#46039f"
             ],
             [
              0.2222222222222222,
              "#7201a8"
             ],
             [
              0.3333333333333333,
              "#9c179e"
             ],
             [
              0.4444444444444444,
              "#bd3786"
             ],
             [
              0.5555555555555556,
              "#d8576b"
             ],
             [
              0.6666666666666666,
              "#ed7953"
             ],
             [
              0.7777777777777778,
              "#fb9f3a"
             ],
             [
              0.8888888888888888,
              "#fdca26"
             ],
             [
              1,
              "#f0f921"
             ]
            ],
            "type": "heatmap"
           }
          ],
          "heatmapgl": [
           {
            "colorbar": {
             "outlinewidth": 0,
             "ticks": ""
            },
            "colorscale": [
             [
              0,
              "#0d0887"
             ],
             [
              0.1111111111111111,
              "#46039f"
             ],
             [
              0.2222222222222222,
              "#7201a8"
             ],
             [
              0.3333333333333333,
              "#9c179e"
             ],
             [
              0.4444444444444444,
              "#bd3786"
             ],
             [
              0.5555555555555556,
              "#d8576b"
             ],
             [
              0.6666666666666666,
              "#ed7953"
             ],
             [
              0.7777777777777778,
              "#fb9f3a"
             ],
             [
              0.8888888888888888,
              "#fdca26"
             ],
             [
              1,
              "#f0f921"
             ]
            ],
            "type": "heatmapgl"
           }
          ],
          "histogram": [
           {
            "marker": {
             "pattern": {
              "fillmode": "overlay",
              "size": 10,
              "solidity": 0.2
             }
            },
            "type": "histogram"
           }
          ],
          "histogram2d": [
           {
            "colorbar": {
             "outlinewidth": 0,
             "ticks": ""
            },
            "colorscale": [
             [
              0,
              "#0d0887"
             ],
             [
              0.1111111111111111,
              "#46039f"
             ],
             [
              0.2222222222222222,
              "#7201a8"
             ],
             [
              0.3333333333333333,
              "#9c179e"
             ],
             [
              0.4444444444444444,
              "#bd3786"
             ],
             [
              0.5555555555555556,
              "#d8576b"
             ],
             [
              0.6666666666666666,
              "#ed7953"
             ],
             [
              0.7777777777777778,
              "#fb9f3a"
             ],
             [
              0.8888888888888888,
              "#fdca26"
             ],
             [
              1,
              "#f0f921"
             ]
            ],
            "type": "histogram2d"
           }
          ],
          "histogram2dcontour": [
           {
            "colorbar": {
             "outlinewidth": 0,
             "ticks": ""
            },
            "colorscale": [
             [
              0,
              "#0d0887"
             ],
             [
              0.1111111111111111,
              "#46039f"
             ],
             [
              0.2222222222222222,
              "#7201a8"
             ],
             [
              0.3333333333333333,
              "#9c179e"
             ],
             [
              0.4444444444444444,
              "#bd3786"
             ],
             [
              0.5555555555555556,
              "#d8576b"
             ],
             [
              0.6666666666666666,
              "#ed7953"
             ],
             [
              0.7777777777777778,
              "#fb9f3a"
             ],
             [
              0.8888888888888888,
              "#fdca26"
             ],
             [
              1,
              "#f0f921"
             ]
            ],
            "type": "histogram2dcontour"
           }
          ],
          "mesh3d": [
           {
            "colorbar": {
             "outlinewidth": 0,
             "ticks": ""
            },
            "type": "mesh3d"
           }
          ],
          "parcoords": [
           {
            "line": {
             "colorbar": {
              "outlinewidth": 0,
              "ticks": ""
             }
            },
            "type": "parcoords"
           }
          ],
          "pie": [
           {
            "automargin": true,
            "type": "pie"
           }
          ],
          "scatter": [
           {
            "fillpattern": {
             "fillmode": "overlay",
             "size": 10,
             "solidity": 0.2
            },
            "type": "scatter"
           }
          ],
          "scatter3d": [
           {
            "line": {
             "colorbar": {
              "outlinewidth": 0,
              "ticks": ""
             }
            },
            "marker": {
             "colorbar": {
              "outlinewidth": 0,
              "ticks": ""
             }
            },
            "type": "scatter3d"
           }
          ],
          "scattercarpet": [
           {
            "marker": {
             "colorbar": {
              "outlinewidth": 0,
              "ticks": ""
             }
            },
            "type": "scattercarpet"
           }
          ],
          "scattergeo": [
           {
            "marker": {
             "colorbar": {
              "outlinewidth": 0,
              "ticks": ""
             }
            },
            "type": "scattergeo"
           }
          ],
          "scattergl": [
           {
            "marker": {
             "colorbar": {
              "outlinewidth": 0,
              "ticks": ""
             }
            },
            "type": "scattergl"
           }
          ],
          "scattermapbox": [
           {
            "marker": {
             "colorbar": {
              "outlinewidth": 0,
              "ticks": ""
             }
            },
            "type": "scattermapbox"
           }
          ],
          "scatterpolar": [
           {
            "marker": {
             "colorbar": {
              "outlinewidth": 0,
              "ticks": ""
             }
            },
            "type": "scatterpolar"
           }
          ],
          "scatterpolargl": [
           {
            "marker": {
             "colorbar": {
              "outlinewidth": 0,
              "ticks": ""
             }
            },
            "type": "scatterpolargl"
           }
          ],
          "scatterternary": [
           {
            "marker": {
             "colorbar": {
              "outlinewidth": 0,
              "ticks": ""
             }
            },
            "type": "scatterternary"
           }
          ],
          "surface": [
           {
            "colorbar": {
             "outlinewidth": 0,
             "ticks": ""
            },
            "colorscale": [
             [
              0,
              "#0d0887"
             ],
             [
              0.1111111111111111,
              "#46039f"
             ],
             [
              0.2222222222222222,
              "#7201a8"
             ],
             [
              0.3333333333333333,
              "#9c179e"
             ],
             [
              0.4444444444444444,
              "#bd3786"
             ],
             [
              0.5555555555555556,
              "#d8576b"
             ],
             [
              0.6666666666666666,
              "#ed7953"
             ],
             [
              0.7777777777777778,
              "#fb9f3a"
             ],
             [
              0.8888888888888888,
              "#fdca26"
             ],
             [
              1,
              "#f0f921"
             ]
            ],
            "type": "surface"
           }
          ],
          "table": [
           {
            "cells": {
             "fill": {
              "color": "#EBF0F8"
             },
             "line": {
              "color": "white"
             }
            },
            "header": {
             "fill": {
              "color": "#C8D4E3"
             },
             "line": {
              "color": "white"
             }
            },
            "type": "table"
           }
          ]
         },
         "layout": {
          "annotationdefaults": {
           "arrowcolor": "#2a3f5f",
           "arrowhead": 0,
           "arrowwidth": 1
          },
          "autotypenumbers": "strict",
          "coloraxis": {
           "colorbar": {
            "outlinewidth": 0,
            "ticks": ""
           }
          },
          "colorscale": {
           "diverging": [
            [
             0,
             "#8e0152"
            ],
            [
             0.1,
             "#c51b7d"
            ],
            [
             0.2,
             "#de77ae"
            ],
            [
             0.3,
             "#f1b6da"
            ],
            [
             0.4,
             "#fde0ef"
            ],
            [
             0.5,
             "#f7f7f7"
            ],
            [
             0.6,
             "#e6f5d0"
            ],
            [
             0.7,
             "#b8e186"
            ],
            [
             0.8,
             "#7fbc41"
            ],
            [
             0.9,
             "#4d9221"
            ],
            [
             1,
             "#276419"
            ]
           ],
           "sequential": [
            [
             0,
             "#0d0887"
            ],
            [
             0.1111111111111111,
             "#46039f"
            ],
            [
             0.2222222222222222,
             "#7201a8"
            ],
            [
             0.3333333333333333,
             "#9c179e"
            ],
            [
             0.4444444444444444,
             "#bd3786"
            ],
            [
             0.5555555555555556,
             "#d8576b"
            ],
            [
             0.6666666666666666,
             "#ed7953"
            ],
            [
             0.7777777777777778,
             "#fb9f3a"
            ],
            [
             0.8888888888888888,
             "#fdca26"
            ],
            [
             1,
             "#f0f921"
            ]
           ],
           "sequentialminus": [
            [
             0,
             "#0d0887"
            ],
            [
             0.1111111111111111,
             "#46039f"
            ],
            [
             0.2222222222222222,
             "#7201a8"
            ],
            [
             0.3333333333333333,
             "#9c179e"
            ],
            [
             0.4444444444444444,
             "#bd3786"
            ],
            [
             0.5555555555555556,
             "#d8576b"
            ],
            [
             0.6666666666666666,
             "#ed7953"
            ],
            [
             0.7777777777777778,
             "#fb9f3a"
            ],
            [
             0.8888888888888888,
             "#fdca26"
            ],
            [
             1,
             "#f0f921"
            ]
           ]
          },
          "colorway": [
           "#636efa",
           "#EF553B",
           "#00cc96",
           "#ab63fa",
           "#FFA15A",
           "#19d3f3",
           "#FF6692",
           "#B6E880",
           "#FF97FF",
           "#FECB52"
          ],
          "font": {
           "color": "#2a3f5f"
          },
          "geo": {
           "bgcolor": "white",
           "lakecolor": "white",
           "landcolor": "#E5ECF6",
           "showlakes": true,
           "showland": true,
           "subunitcolor": "white"
          },
          "hoverlabel": {
           "align": "left"
          },
          "hovermode": "closest",
          "mapbox": {
           "style": "light"
          },
          "paper_bgcolor": "white",
          "plot_bgcolor": "#E5ECF6",
          "polar": {
           "angularaxis": {
            "gridcolor": "white",
            "linecolor": "white",
            "ticks": ""
           },
           "bgcolor": "#E5ECF6",
           "radialaxis": {
            "gridcolor": "white",
            "linecolor": "white",
            "ticks": ""
           }
          },
          "scene": {
           "xaxis": {
            "backgroundcolor": "#E5ECF6",
            "gridcolor": "white",
            "gridwidth": 2,
            "linecolor": "white",
            "showbackground": true,
            "ticks": "",
            "zerolinecolor": "white"
           },
           "yaxis": {
            "backgroundcolor": "#E5ECF6",
            "gridcolor": "white",
            "gridwidth": 2,
            "linecolor": "white",
            "showbackground": true,
            "ticks": "",
            "zerolinecolor": "white"
           },
           "zaxis": {
            "backgroundcolor": "#E5ECF6",
            "gridcolor": "white",
            "gridwidth": 2,
            "linecolor": "white",
            "showbackground": true,
            "ticks": "",
            "zerolinecolor": "white"
           }
          },
          "shapedefaults": {
           "line": {
            "color": "#2a3f5f"
           }
          },
          "ternary": {
           "aaxis": {
            "gridcolor": "white",
            "linecolor": "white",
            "ticks": ""
           },
           "baxis": {
            "gridcolor": "white",
            "linecolor": "white",
            "ticks": ""
           },
           "bgcolor": "#E5ECF6",
           "caxis": {
            "gridcolor": "white",
            "linecolor": "white",
            "ticks": ""
           }
          },
          "title": {
           "x": 0.05
          },
          "xaxis": {
           "automargin": true,
           "gridcolor": "white",
           "linecolor": "white",
           "ticks": "",
           "title": {
            "standoff": 15
           },
           "zerolinecolor": "white",
           "zerolinewidth": 2
          },
          "yaxis": {
           "automargin": true,
           "gridcolor": "white",
           "linecolor": "white",
           "ticks": "",
           "title": {
            "standoff": 15
           },
           "zerolinecolor": "white",
           "zerolinewidth": 2
          }
         }
        },
        "title": {
         "text": "Correlation between Children Out of School and Government Expenditure by Country"
        }
       }
      },
      "text/html": [
       "<div>                            <div id=\"dff58034-2694-454d-be40-78b05a5894a4\" class=\"plotly-graph-div\" style=\"height:525px; width:100%;\"></div>            <script type=\"text/javascript\">                require([\"plotly\"], function(Plotly) {                    window.PLOTLYENV=window.PLOTLYENV || {};                                    if (document.getElementById(\"dff58034-2694-454d-be40-78b05a5894a4\")) {                    Plotly.newPlot(                        \"dff58034-2694-454d-be40-78b05a5894a4\",                        [{\"coloraxis\":\"coloraxis\",\"geo\":\"geo\",\"hovertemplate\":\"<b>%{hovertext}</b><br><br>Country=%{location}<br>Correlation=%{z}<extra></extra>\",\"hovertext\":[\"Albania\",\"Andorra\",\"Argentina\",\"Armenia\",\"Australia\",\"Austria\",\"Azerbaijan\",\"Bahrain\",\"Barbados\",\"Belarus\",\"Belgium\",\"Belize\",\"Benin\",\"Bhutan\",\"Bolivia (Plurinational State of)\",\"Bosnia and Herzegovina\",\"Brazil\",\"Bulgaria\",\"Burkina Faso\",\"Burundi\",\"Cabo Verde\",\"Cambodia\",\"Cameroon\",\"Canada\",\"Chad\",\"Chile\",\"China, Hong Kong Special Administrative Region\",\"China, Macao Special Administrative Region\",\"Colombia\",\"Congo\",\"Costa Rica\",\"Croatia\",\"Cyprus\",\"Czechia\",\"C\\u00f4te d'Ivoire\",\"Denmark\",\"Djibouti\",\"Dominica\",\"Dominican Republic\",\"Ecuador\",\"Egypt\",\"Estonia\",\"Finland\",\"France\",\"Gambia\",\"Georgia\",\"Germany\",\"Ghana\",\"Greece\",\"Grenada\",\"Guatemala\",\"Guinea\",\"Honduras\",\"Hungary\",\"Iceland\",\"India\",\"Iran (Islamic Republic of)\",\"Ireland\",\"Israel\",\"Italy\",\"Jamaica\",\"Jordan\",\"Kazakhstan\",\"Kyrgyzstan\",\"Latvia\",\"Lesotho\",\"Liberia\",\"Lithuania\",\"Luxembourg\",\"Madagascar\",\"Malaysia\",\"Maldives\",\"Mali\",\"Malta\",\"Marshall Islands\",\"Mauritania\",\"Mauritius\",\"Mexico\",\"Mongolia\",\"Mozambique\",\"Myanmar\",\"Namibia\",\"Nepal\",\"Netherlands\",\"New Zealand\",\"Niger\",\"Norway\",\"Oman\",\"Pakistan\",\"Palestine\",\"Papua New Guinea\",\"Paraguay\",\"Peru\",\"Poland\",\"Portugal\",\"Qatar\",\"Republic of Korea\",\"Republic of Moldova\",\"Romania\",\"Russian Federation\",\"Rwanda\",\"Saint Kitts and Nevis\",\"Saint Lucia\",\"Saint Vincent and the Grenadines\",\"San Marino\",\"Sao Tome and Principe\",\"Serbia\",\"Sierra Leone\",\"Singapore\",\"Slovakia\",\"Slovenia\",\"South Africa\",\"Spain\",\"Sri Lanka\",\"Sweden\",\"Switzerland\",\"Timor-Leste\",\"Togo\",\"Trinidad and Tobago\",\"Turks and Caicos Islands\",\"T\\u00fcrkiye\",\"Uganda\",\"Ukraine\",\"United Arab Emirates\",\"United Kingdom of Great Britain and Northern Ireland\",\"United Republic of Tanzania\",\"United States of America\",\"Uruguay\",\"Uzbekistan\",\"Vanuatu\",\"Viet Nam\",\"Zambia\",\"Zimbabwe\"],\"locationmode\":\"country names\",\"locations\":[\"Albania\",\"Andorra\",\"Argentina\",\"Armenia\",\"Australia\",\"Austria\",\"Azerbaijan\",\"Bahrain\",\"Barbados\",\"Belarus\",\"Belgium\",\"Belize\",\"Benin\",\"Bhutan\",\"Bolivia (Plurinational State of)\",\"Bosnia and Herzegovina\",\"Brazil\",\"Bulgaria\",\"Burkina Faso\",\"Burundi\",\"Cabo Verde\",\"Cambodia\",\"Cameroon\",\"Canada\",\"Chad\",\"Chile\",\"China, Hong Kong Special Administrative Region\",\"China, Macao Special Administrative Region\",\"Colombia\",\"Congo\",\"Costa Rica\",\"Croatia\",\"Cyprus\",\"Czechia\",\"C\\u00f4te d'Ivoire\",\"Denmark\",\"Djibouti\",\"Dominica\",\"Dominican Republic\",\"Ecuador\",\"Egypt\",\"Estonia\",\"Finland\",\"France\",\"Gambia\",\"Georgia\",\"Germany\",\"Ghana\",\"Greece\",\"Grenada\",\"Guatemala\",\"Guinea\",\"Honduras\",\"Hungary\",\"Iceland\",\"India\",\"Iran (Islamic Republic of)\",\"Ireland\",\"Israel\",\"Italy\",\"Jamaica\",\"Jordan\",\"Kazakhstan\",\"Kyrgyzstan\",\"Latvia\",\"Lesotho\",\"Liberia\",\"Lithuania\",\"Luxembourg\",\"Madagascar\",\"Malaysia\",\"Maldives\",\"Mali\",\"Malta\",\"Marshall Islands\",\"Mauritania\",\"Mauritius\",\"Mexico\",\"Mongolia\",\"Mozambique\",\"Myanmar\",\"Namibia\",\"Nepal\",\"Netherlands\",\"New Zealand\",\"Niger\",\"Norway\",\"Oman\",\"Pakistan\",\"Palestine\",\"Papua New Guinea\",\"Paraguay\",\"Peru\",\"Poland\",\"Portugal\",\"Qatar\",\"Republic of Korea\",\"Republic of Moldova\",\"Romania\",\"Russian Federation\",\"Rwanda\",\"Saint Kitts and Nevis\",\"Saint Lucia\",\"Saint Vincent and the Grenadines\",\"San Marino\",\"Sao Tome and Principe\",\"Serbia\",\"Sierra Leone\",\"Singapore\",\"Slovakia\",\"Slovenia\",\"South Africa\",\"Spain\",\"Sri Lanka\",\"Sweden\",\"Switzerland\",\"Timor-Leste\",\"Togo\",\"Trinidad and Tobago\",\"Turks and Caicos Islands\",\"T\\u00fcrkiye\",\"Uganda\",\"Ukraine\",\"United Arab Emirates\",\"United Kingdom of Great Britain and Northern Ireland\",\"United Republic of Tanzania\",\"United States of America\",\"Uruguay\",\"Uzbekistan\",\"Vanuatu\",\"Viet Nam\",\"Zambia\",\"Zimbabwe\"],\"name\":\"\",\"z\":[0.02700571824515633,0.003247501265449769,-0.037099161854986386,0.016778947840148373,0.003924654194865942,6.502309325615823e-05,-0.01787817324762849,-8.639747080307438e-18,-0.007482016553081253,0.00313918070981101,-0.0006727293999443415,-0.017743342414502344,-0.04407561475821699,0.29508910107176656,-0.0006837912992197951,0.01871490226916862,0.0009436289845910563,0.027211686283596256,-0.021725654174198354,0.14651057079335486,0.0009080685149586581,0.0,0.4850242656459036,0.010412586850225716,0.039221315197931934,-0.006472035817747558,-0.03006376330040408,0.03579948303498326,0.01709493718171428,1.114855296236459e-16,-0.0041571894081127905,0.0014022625909093955,-0.0174741559409476,-0.01704639725806151,-0.01748991392740395,-0.007291984114290714,-0.032906855149223604,0.003374734038211544,-0.019423887405305523,0.006964977223597962,0.01472541779354748,-0.0029727574968243884,0.0016555706080654269,-0.0025828257527135226,null,0.14887025540616683,0.008409427146221166,0.009082633982872521,0.0012923668100460468,1.7847654024615346e-17,-0.005822664888545896,-0.0002220593095264845,null,0.002081807246016548,0.005980685255223528,-0.07966206101289754,-0.013186200320285358,0.033968541203608614,0.0042840198264688404,0.0008317837534577919,0.0014050864076436955,-0.011236244165731496,-0.027065899450351576,-0.05775986556649031,-0.000614327076507847,null,null,0.04142841155870044,-0.013191412833079924,null,0.013655218153454282,0.0011015098278493603,-0.014225415036215381,0.04145333594654786,0.017030685145901298,6.57999589358661e-18,-0.022651678538640287,-0.00560852147903458,-1.3336172324622626e-18,-0.629292092910556,-1.0947428821273113e-05,7.573925954193042e-18,null,0.0027510004264332034,0.023152230189057904,0.13842169092308676,0.0058033351154073995,-0.111309037605123,-0.5776275097537112,-0.11917355960140612,null,-0.0014565822440611104,0.005067454913545316,-0.020934021884477235,0.006973204834654542,0.06866913364711788,-0.006752382314952417,0.004424989918076486,-0.005262537026989815,0.13423799397433736,-0.021158045558880626,null,-0.040227980302583496,-0.01076524048790123,0.020185424528468797,null,-0.001665664213069971,-0.037402849796745845,0.030939217406904695,-0.034522766612176604,-0.024722699063181468,0.010627597141265701,-0.005957682027254911,0.07504439087845209,-0.0030732562193556247,0.0018166556611761851,-0.055592671675248825,-0.3730101267811445,-0.18643468717356074,-0.04713082308980315,0.00045546366158939565,null,8.727455411971905e-05,-0.00269553054418183,0.0046440351934937405,-0.09529877570275201,0.001386217331842558,-0.011682807468059725,0.0235536118898387,0.018029144339277787,null,-1.787171770528072e-17,0.014709194892719319],\"type\":\"choropleth\"}],                        {\"template\":{\"data\":{\"histogram2dcontour\":[{\"type\":\"histogram2dcontour\",\"colorbar\":{\"outlinewidth\":0,\"ticks\":\"\"},\"colorscale\":[[0.0,\"#0d0887\"],[0.1111111111111111,\"#46039f\"],[0.2222222222222222,\"#7201a8\"],[0.3333333333333333,\"#9c179e\"],[0.4444444444444444,\"#bd3786\"],[0.5555555555555556,\"#d8576b\"],[0.6666666666666666,\"#ed7953\"],[0.7777777777777778,\"#fb9f3a\"],[0.8888888888888888,\"#fdca26\"],[1.0,\"#f0f921\"]]}],\"choropleth\":[{\"type\":\"choropleth\",\"colorbar\":{\"outlinewidth\":0,\"ticks\":\"\"}}],\"histogram2d\":[{\"type\":\"histogram2d\",\"colorbar\":{\"outlinewidth\":0,\"ticks\":\"\"},\"colorscale\":[[0.0,\"#0d0887\"],[0.1111111111111111,\"#46039f\"],[0.2222222222222222,\"#7201a8\"],[0.3333333333333333,\"#9c179e\"],[0.4444444444444444,\"#bd3786\"],[0.5555555555555556,\"#d8576b\"],[0.6666666666666666,\"#ed7953\"],[0.7777777777777778,\"#fb9f3a\"],[0.8888888888888888,\"#fdca26\"],[1.0,\"#f0f921\"]]}],\"heatmap\":[{\"type\":\"heatmap\",\"colorbar\":{\"outlinewidth\":0,\"ticks\":\"\"},\"colorscale\":[[0.0,\"#0d0887\"],[0.1111111111111111,\"#46039f\"],[0.2222222222222222,\"#7201a8\"],[0.3333333333333333,\"#9c179e\"],[0.4444444444444444,\"#bd3786\"],[0.5555555555555556,\"#d8576b\"],[0.6666666666666666,\"#ed7953\"],[0.7777777777777778,\"#fb9f3a\"],[0.8888888888888888,\"#fdca26\"],[1.0,\"#f0f921\"]]}],\"heatmapgl\":[{\"type\":\"heatmapgl\",\"colorbar\":{\"outlinewidth\":0,\"ticks\":\"\"},\"colorscale\":[[0.0,\"#0d0887\"],[0.1111111111111111,\"#46039f\"],[0.2222222222222222,\"#7201a8\"],[0.3333333333333333,\"#9c179e\"],[0.4444444444444444,\"#bd3786\"],[0.5555555555555556,\"#d8576b\"],[0.6666666666666666,\"#ed7953\"],[0.7777777777777778,\"#fb9f3a\"],[0.8888888888888888,\"#fdca26\"],[1.0,\"#f0f921\"]]}],\"contourcarpet\":[{\"type\":\"contourcarpet\",\"colorbar\":{\"outlinewidth\":0,\"ticks\":\"\"}}],\"contour\":[{\"type\":\"contour\",\"colorbar\":{\"outlinewidth\":0,\"ticks\":\"\"},\"colorscale\":[[0.0,\"#0d0887\"],[0.1111111111111111,\"#46039f\"],[0.2222222222222222,\"#7201a8\"],[0.3333333333333333,\"#9c179e\"],[0.4444444444444444,\"#bd3786\"],[0.5555555555555556,\"#d8576b\"],[0.6666666666666666,\"#ed7953\"],[0.7777777777777778,\"#fb9f3a\"],[0.8888888888888888,\"#fdca26\"],[1.0,\"#f0f921\"]]}],\"surface\":[{\"type\":\"surface\",\"colorbar\":{\"outlinewidth\":0,\"ticks\":\"\"},\"colorscale\":[[0.0,\"#0d0887\"],[0.1111111111111111,\"#46039f\"],[0.2222222222222222,\"#7201a8\"],[0.3333333333333333,\"#9c179e\"],[0.4444444444444444,\"#bd3786\"],[0.5555555555555556,\"#d8576b\"],[0.6666666666666666,\"#ed7953\"],[0.7777777777777778,\"#fb9f3a\"],[0.8888888888888888,\"#fdca26\"],[1.0,\"#f0f921\"]]}],\"mesh3d\":[{\"type\":\"mesh3d\",\"colorbar\":{\"outlinewidth\":0,\"ticks\":\"\"}}],\"scatter\":[{\"fillpattern\":{\"fillmode\":\"overlay\",\"size\":10,\"solidity\":0.2},\"type\":\"scatter\"}],\"parcoords\":[{\"type\":\"parcoords\",\"line\":{\"colorbar\":{\"outlinewidth\":0,\"ticks\":\"\"}}}],\"scatterpolargl\":[{\"type\":\"scatterpolargl\",\"marker\":{\"colorbar\":{\"outlinewidth\":0,\"ticks\":\"\"}}}],\"bar\":[{\"error_x\":{\"color\":\"#2a3f5f\"},\"error_y\":{\"color\":\"#2a3f5f\"},\"marker\":{\"line\":{\"color\":\"#E5ECF6\",\"width\":0.5},\"pattern\":{\"fillmode\":\"overlay\",\"size\":10,\"solidity\":0.2}},\"type\":\"bar\"}],\"scattergeo\":[{\"type\":\"scattergeo\",\"marker\":{\"colorbar\":{\"outlinewidth\":0,\"ticks\":\"\"}}}],\"scatterpolar\":[{\"type\":\"scatterpolar\",\"marker\":{\"colorbar\":{\"outlinewidth\":0,\"ticks\":\"\"}}}],\"histogram\":[{\"marker\":{\"pattern\":{\"fillmode\":\"overlay\",\"size\":10,\"solidity\":0.2}},\"type\":\"histogram\"}],\"scattergl\":[{\"type\":\"scattergl\",\"marker\":{\"colorbar\":{\"outlinewidth\":0,\"ticks\":\"\"}}}],\"scatter3d\":[{\"type\":\"scatter3d\",\"line\":{\"colorbar\":{\"outlinewidth\":0,\"ticks\":\"\"}},\"marker\":{\"colorbar\":{\"outlinewidth\":0,\"ticks\":\"\"}}}],\"scattermapbox\":[{\"type\":\"scattermapbox\",\"marker\":{\"colorbar\":{\"outlinewidth\":0,\"ticks\":\"\"}}}],\"scatterternary\":[{\"type\":\"scatterternary\",\"marker\":{\"colorbar\":{\"outlinewidth\":0,\"ticks\":\"\"}}}],\"scattercarpet\":[{\"type\":\"scattercarpet\",\"marker\":{\"colorbar\":{\"outlinewidth\":0,\"ticks\":\"\"}}}],\"carpet\":[{\"aaxis\":{\"endlinecolor\":\"#2a3f5f\",\"gridcolor\":\"white\",\"linecolor\":\"white\",\"minorgridcolor\":\"white\",\"startlinecolor\":\"#2a3f5f\"},\"baxis\":{\"endlinecolor\":\"#2a3f5f\",\"gridcolor\":\"white\",\"linecolor\":\"white\",\"minorgridcolor\":\"white\",\"startlinecolor\":\"#2a3f5f\"},\"type\":\"carpet\"}],\"table\":[{\"cells\":{\"fill\":{\"color\":\"#EBF0F8\"},\"line\":{\"color\":\"white\"}},\"header\":{\"fill\":{\"color\":\"#C8D4E3\"},\"line\":{\"color\":\"white\"}},\"type\":\"table\"}],\"barpolar\":[{\"marker\":{\"line\":{\"color\":\"#E5ECF6\",\"width\":0.5},\"pattern\":{\"fillmode\":\"overlay\",\"size\":10,\"solidity\":0.2}},\"type\":\"barpolar\"}],\"pie\":[{\"automargin\":true,\"type\":\"pie\"}]},\"layout\":{\"autotypenumbers\":\"strict\",\"colorway\":[\"#636efa\",\"#EF553B\",\"#00cc96\",\"#ab63fa\",\"#FFA15A\",\"#19d3f3\",\"#FF6692\",\"#B6E880\",\"#FF97FF\",\"#FECB52\"],\"font\":{\"color\":\"#2a3f5f\"},\"hovermode\":\"closest\",\"hoverlabel\":{\"align\":\"left\"},\"paper_bgcolor\":\"white\",\"plot_bgcolor\":\"#E5ECF6\",\"polar\":{\"bgcolor\":\"#E5ECF6\",\"angularaxis\":{\"gridcolor\":\"white\",\"linecolor\":\"white\",\"ticks\":\"\"},\"radialaxis\":{\"gridcolor\":\"white\",\"linecolor\":\"white\",\"ticks\":\"\"}},\"ternary\":{\"bgcolor\":\"#E5ECF6\",\"aaxis\":{\"gridcolor\":\"white\",\"linecolor\":\"white\",\"ticks\":\"\"},\"baxis\":{\"gridcolor\":\"white\",\"linecolor\":\"white\",\"ticks\":\"\"},\"caxis\":{\"gridcolor\":\"white\",\"linecolor\":\"white\",\"ticks\":\"\"}},\"coloraxis\":{\"colorbar\":{\"outlinewidth\":0,\"ticks\":\"\"}},\"colorscale\":{\"sequential\":[[0.0,\"#0d0887\"],[0.1111111111111111,\"#46039f\"],[0.2222222222222222,\"#7201a8\"],[0.3333333333333333,\"#9c179e\"],[0.4444444444444444,\"#bd3786\"],[0.5555555555555556,\"#d8576b\"],[0.6666666666666666,\"#ed7953\"],[0.7777777777777778,\"#fb9f3a\"],[0.8888888888888888,\"#fdca26\"],[1.0,\"#f0f921\"]],\"sequentialminus\":[[0.0,\"#0d0887\"],[0.1111111111111111,\"#46039f\"],[0.2222222222222222,\"#7201a8\"],[0.3333333333333333,\"#9c179e\"],[0.4444444444444444,\"#bd3786\"],[0.5555555555555556,\"#d8576b\"],[0.6666666666666666,\"#ed7953\"],[0.7777777777777778,\"#fb9f3a\"],[0.8888888888888888,\"#fdca26\"],[1.0,\"#f0f921\"]],\"diverging\":[[0,\"#8e0152\"],[0.1,\"#c51b7d\"],[0.2,\"#de77ae\"],[0.3,\"#f1b6da\"],[0.4,\"#fde0ef\"],[0.5,\"#f7f7f7\"],[0.6,\"#e6f5d0\"],[0.7,\"#b8e186\"],[0.8,\"#7fbc41\"],[0.9,\"#4d9221\"],[1,\"#276419\"]]},\"xaxis\":{\"gridcolor\":\"white\",\"linecolor\":\"white\",\"ticks\":\"\",\"title\":{\"standoff\":15},\"zerolinecolor\":\"white\",\"automargin\":true,\"zerolinewidth\":2},\"yaxis\":{\"gridcolor\":\"white\",\"linecolor\":\"white\",\"ticks\":\"\",\"title\":{\"standoff\":15},\"zerolinecolor\":\"white\",\"automargin\":true,\"zerolinewidth\":2},\"scene\":{\"xaxis\":{\"backgroundcolor\":\"#E5ECF6\",\"gridcolor\":\"white\",\"linecolor\":\"white\",\"showbackground\":true,\"ticks\":\"\",\"zerolinecolor\":\"white\",\"gridwidth\":2},\"yaxis\":{\"backgroundcolor\":\"#E5ECF6\",\"gridcolor\":\"white\",\"linecolor\":\"white\",\"showbackground\":true,\"ticks\":\"\",\"zerolinecolor\":\"white\",\"gridwidth\":2},\"zaxis\":{\"backgroundcolor\":\"#E5ECF6\",\"gridcolor\":\"white\",\"linecolor\":\"white\",\"showbackground\":true,\"ticks\":\"\",\"zerolinecolor\":\"white\",\"gridwidth\":2}},\"shapedefaults\":{\"line\":{\"color\":\"#2a3f5f\"}},\"annotationdefaults\":{\"arrowcolor\":\"#2a3f5f\",\"arrowhead\":0,\"arrowwidth\":1},\"geo\":{\"bgcolor\":\"white\",\"landcolor\":\"#E5ECF6\",\"subunitcolor\":\"white\",\"showland\":true,\"showlakes\":true,\"lakecolor\":\"white\"},\"title\":{\"x\":0.05},\"mapbox\":{\"style\":\"light\"}}},\"geo\":{\"domain\":{\"x\":[0.0,1.0],\"y\":[0.0,1.0]},\"center\":{},\"projection\":{\"type\":\"equirectangular\"},\"showframe\":false,\"showcoastlines\":true},\"coloraxis\":{\"colorbar\":{\"title\":{\"text\":\"Correlation\"}},\"colorscale\":[[0.0,\"rgb(142,1,82)\"],[0.1,\"rgb(197,27,125)\"],[0.2,\"rgb(222,119,174)\"],[0.3,\"rgb(241,182,218)\"],[0.4,\"rgb(253,224,239)\"],[0.5,\"rgb(247,247,247)\"],[0.6,\"rgb(230,245,208)\"],[0.7,\"rgb(184,225,134)\"],[0.8,\"rgb(127,188,65)\"],[0.9,\"rgb(77,146,33)\"],[1.0,\"rgb(39,100,25)\"]]},\"legend\":{\"tracegroupgap\":0},\"title\":{\"text\":\"Correlation between Children Out of School and Government Expenditure by Country\"}},                        {\"responsive\": true}                    ).then(function(){\n",
       "                            \n",
       "var gd = document.getElementById('dff58034-2694-454d-be40-78b05a5894a4');\n",
       "var x = new MutationObserver(function (mutations, observer) {{\n",
       "        var display = window.getComputedStyle(gd).display;\n",
       "        if (!display || display === 'none') {{\n",
       "            console.log([gd, 'removed!']);\n",
       "            Plotly.purge(gd);\n",
       "            observer.disconnect();\n",
       "        }}\n",
       "}});\n",
       "\n",
       "// Listen for the removal of the full notebook cells\n",
       "var notebookContainer = gd.closest('#notebook-container');\n",
       "if (notebookContainer) {{\n",
       "    x.observe(notebookContainer, {childList: true});\n",
       "}}\n",
       "\n",
       "// Listen for the clearing of the current output cell\n",
       "var outputEl = gd.closest('.output');\n",
       "if (outputEl) {{\n",
       "    x.observe(outputEl, {childList: true});\n",
       "}}\n",
       "\n",
       "                        })                };                });            </script>        </div>"
      ]
     },
     "metadata": {},
     "output_type": "display_data"
    }
   ],
   "source": [
    "# Selecionar as colunas necessárias\n",
    "children_out_of_school_filtered = children_out_of_school[['Country', 'Time', 'Value']].rename(columns={'Value': 'Children_Out_Of_School'})\n",
    "government_expenditure_filtered = government_expenditure[['Country', 'Time', 'Value']].rename(columns={'Value': 'Government_Expenditure'})\n",
    "\n",
    "# Combinar os datasets baseados em país e ano\n",
    "merged_data_exp = pd.merge(children_out_of_school_filtered, government_expenditure_filtered, on=['Country', 'Time'])\n",
    "\n",
    "# Remover linhas com valores NaN\n",
    "cleaned_data_exp = merged_data_exp.dropna()\n",
    "\n",
    "# Calcular a correlação para cada país\n",
    "country_correlations_exp = cleaned_data_exp.groupby('Country').apply(\n",
    "    lambda x: x['Children_Out_Of_School'].corr(x['Government_Expenditure'])\n",
    ").reset_index().rename(columns={0: 'Correlation'})\n",
    "\n",
    "# Criar o mapa com as correlações individuais dos países\n",
    "fig_map_exp = px.choropleth(country_correlations_exp, \n",
    "                            locations=\"Country\",\n",
    "                            locationmode='country names',\n",
    "                            color=\"Correlation\",\n",
    "                            hover_name=\"Country\",\n",
    "                            color_continuous_scale=px.colors.diverging.PiYG,\n",
    "                            title=\"Correlation between Children Out of School and Government Expenditure by Country\")\n",
    "\n",
    "# Atualizar o layout para melhor legibilidade\n",
    "fig_map_exp.update_layout(\n",
    "    geo=dict(showframe=False, showcoastlines=True, projection_type='equirectangular')\n",
    ")\n"
   ]
  },
  {
   "cell_type": "code",
   "execution_count": null,
   "id": "3ee03179",
   "metadata": {},
   "outputs": [],
   "source": [
    "# Sort the correlations to get the top 10 highest and lowest correlations\n",
    "top_10_highest_correlations = country_correlations_exp.sort_values(by='Correlation', ascending=False).head(10)\n",
    "top_10_lowest_correlations = country_correlations_exp.sort_values(by='Correlation').head(10)\n",
    "\n",
    "top_10_highest_correlations, top_10_lowest_correlations"
   ]
  },
  {
   "cell_type": "markdown",
   "id": "b0b9f02f",
   "metadata": {},
   "source": [
    "Correlações Positivas: Alguns países como Camarões e Butão mostram correlações positivas relativamente altas. Isso sugere que, nesses países, maiores gastos governamentais em educação estão associados a um menor número de crianças fora da escola. Isso pode indicar que investimentos governamentais estão tendo um impacto positivo na inclusão escolar.\n",
    "\n",
    "Correlações Negativas: Em outros países, como Moçambique e Paquistão, há correlações negativas significativas. Isso pode sugerir que, apesar dos gastos governamentais, outras barreiras (sociais, econômicas ou políticas) podem estar impedindo a redução do número de crianças fora da escola."
   ]
  },
  {
   "cell_type": "markdown",
   "id": "e287e7a0",
   "metadata": {},
   "source": [
    "# Gasto governamental com educação vs população analfabeta"
   ]
  },
  {
   "cell_type": "code",
   "execution_count": 41,
   "id": "b91c8de4",
   "metadata": {},
   "outputs": [
    {
     "data": {
      "text/plain": [
       "(           NATMON_IND                                          Indicator  \\\n",
       " 0  X_USCONST_02_FSGOV  Government expenditure on pre-primary educatio...   \n",
       " 1  X_USCONST_02_FSGOV  Government expenditure on pre-primary educatio...   \n",
       " 2  X_USCONST_02_FSGOV  Government expenditure on pre-primary educatio...   \n",
       " 3   X_USCONST_2_FSGOV  Government expenditure on lower secondary educ...   \n",
       " 4   X_USCONST_2_FSGOV  Government expenditure on lower secondary educ...   \n",
       " \n",
       "   LOCATION Country  TIME  Time        Value Flag Codes Flags  \n",
       " 0      GRC  Greece  2017  2017    538.50359        NaN   NaN  \n",
       " 1      GRC  Greece  2018  2018    557.72537        NaN   NaN  \n",
       " 2      GRC  Greece  2019  2019    588.75234        NaN   NaN  \n",
       " 3      IND   India  2017  2017  14367.64709        NaN   NaN  \n",
       " 4      IND   India  2018  2018  15425.28270        NaN   NaN  ,\n",
       "              NATMON_IND                                          Indicator  \\\n",
       " 0  ILLPOP_AG15T24_URB_F  Illiterate youth population, 15-24 years, urba...   \n",
       " 1  ILLPOP_AG15T24_URB_F  Illiterate youth population, 15-24 years, urba...   \n",
       " 2      ILLPOP_AG15T24_F  Youth illiterate population, 15-24 years, fema...   \n",
       " 3      ILLPOP_AG15T24_M  Youth illiterate population, 15-24 years, male...   \n",
       " 4      ILLPOP_AG15T24_M  Youth illiterate population, 15-24 years, male...   \n",
       " \n",
       "   LOCATION  Country  TIME  Time     Value Flag Codes           Flags  \n",
       " 0      PAN   Panama  2018  2018    1167.0        NaN             NaN  \n",
       " 1      PAN   Panama  2019  2019     452.0        NaN             NaN  \n",
       " 2      BHR  Bahrain  2022  2022     766.0        NaN             NaN  \n",
       " 3      GIN   Guinea  2018  2018  399424.0        NaN             NaN  \n",
       " 4      GIN   Guinea  2021  2021  400571.0          ‡  UIS Estimation  )"
      ]
     },
     "execution_count": 41,
     "metadata": {},
     "output_type": "execute_result"
    }
   ],
   "source": [
    "# Load the new dataset for government expenditure\n",
    "government_expenditure = pd.read_csv('Government_exp_const_usd.csv')\n",
    "\n",
    "# Load the dataset for children out of school again to ensure consistency\n",
    "illetarate_population = pd.read_csv('Illetarate_population.csv')\n",
    "\n",
    "# Display the first few rows of the new dataset to understand its structure\n",
    "government_expenditure.head(), illetarate_population.head()\n"
   ]
  },
  {
   "cell_type": "code",
   "execution_count": 43,
   "id": "0bd64901",
   "metadata": {},
   "outputs": [
    {
     "data": {
      "application/vnd.plotly.v1+json": {
       "config": {
        "plotlyServerURL": "https://plot.ly"
       },
       "data": [
        {
         "coloraxis": "coloraxis",
         "geo": "geo",
         "hovertemplate": "<b>%{hovertext}</b><br><br>Country=%{location}<br>Correlation=%{z}<extra></extra>",
         "hovertext": [
          "Afghanistan",
          "Albania",
          "Armenia",
          "Azerbaijan",
          "Bangladesh",
          "Belarus",
          "Bhutan",
          "Bolivia (Plurinational State of)",
          "Brazil",
          "Burkina Faso",
          "Burundi",
          "Cameroon",
          "Chile",
          "China, Macao Special Administrative Region",
          "Colombia",
          "Costa Rica",
          "Côte d'Ivoire",
          "Dominican Republic",
          "Ecuador",
          "Egypt",
          "El Salvador",
          "Georgia",
          "Guatemala",
          "Guinea",
          "Honduras",
          "Iran (Islamic Republic of)",
          "Italy",
          "Jordan",
          "Kyrgyzstan",
          "Liberia",
          "Madagascar",
          "Mali",
          "Mauritania",
          "Mauritius",
          "Mexico",
          "Mozambique",
          "Myanmar",
          "Oman",
          "Pakistan",
          "Palestine",
          "Paraguay",
          "Peru",
          "Republic of Korea",
          "Republic of Moldova",
          "Rwanda",
          "Senegal",
          "Serbia",
          "Sierra Leone",
          "Singapore",
          "South Africa",
          "Spain",
          "Sri Lanka",
          "Türkiye",
          "Uganda",
          "United Arab Emirates",
          "Uruguay",
          "Uzbekistan"
         ],
         "locationmode": "country names",
         "locations": [
          "Afghanistan",
          "Albania",
          "Armenia",
          "Azerbaijan",
          "Bangladesh",
          "Belarus",
          "Bhutan",
          "Bolivia (Plurinational State of)",
          "Brazil",
          "Burkina Faso",
          "Burundi",
          "Cameroon",
          "Chile",
          "China, Macao Special Administrative Region",
          "Colombia",
          "Costa Rica",
          "Côte d'Ivoire",
          "Dominican Republic",
          "Ecuador",
          "Egypt",
          "El Salvador",
          "Georgia",
          "Guatemala",
          "Guinea",
          "Honduras",
          "Iran (Islamic Republic of)",
          "Italy",
          "Jordan",
          "Kyrgyzstan",
          "Liberia",
          "Madagascar",
          "Mali",
          "Mauritania",
          "Mauritius",
          "Mexico",
          "Mozambique",
          "Myanmar",
          "Oman",
          "Pakistan",
          "Palestine",
          "Paraguay",
          "Peru",
          "Republic of Korea",
          "Republic of Moldova",
          "Rwanda",
          "Senegal",
          "Serbia",
          "Sierra Leone",
          "Singapore",
          "South Africa",
          "Spain",
          "Sri Lanka",
          "Türkiye",
          "Uganda",
          "United Arab Emirates",
          "Uruguay",
          "Uzbekistan"
         ],
         "name": "",
         "type": "choropleth",
         "z": [
          null,
          -2.9770767843303872e-18,
          -0.003193894546744821,
          8.573934332513941e-06,
          -0.0014544083274832895,
          2.9635395138227028e-18,
          0,
          -1.785633138816123e-18,
          8.098993952738911e-05,
          0,
          null,
          -7.540522738777414e-17,
          -7.066432863564491e-19,
          -1.0422125711701907e-17,
          -0.0038152735325803705,
          4.090035574083832e-18,
          1.2237859325589253e-19,
          -1.2462599989849203e-18,
          0.0011898537293045304,
          -0.024160438435961,
          0.0010892264641557481,
          -0.258768637377422,
          0.0018722832795068387,
          -5.827480214690776e-18,
          null,
          -7.757739233720271e-18,
          -5.619180650028334e-18,
          -6.942570500671199e-18,
          1.0242768378309158e-17,
          null,
          null,
          0.009204479668844452,
          -2.95261608153232e-19,
          1.886668128858183e-17,
          0.0004660418705614968,
          null,
          3.3736281253589015e-18,
          0.07326318104063825,
          0.01617199877658612,
          1.84246692001349e-16,
          -3.695800444060527e-18,
          0.00043728175996514716,
          -8.440951807114577e-18,
          9.538192966102463e-18,
          -0.015814884712425457,
          null,
          6.820253393933127e-18,
          -1.0748531116117284e-17,
          -0.002135839725285401,
          -0.006110694623347073,
          -0.0010702366281118304,
          0.004893717426398392,
          -0.0026107990468203484,
          null,
          -0.00513425584016617,
          -0.0008252531273341377,
          -0.04987419597331144
         ]
        }
       ],
       "layout": {
        "coloraxis": {
         "colorbar": {
          "title": {
           "text": "Correlation"
          }
         },
         "colorscale": [
          [
           0,
           "rgb(142,1,82)"
          ],
          [
           0.1,
           "rgb(197,27,125)"
          ],
          [
           0.2,
           "rgb(222,119,174)"
          ],
          [
           0.3,
           "rgb(241,182,218)"
          ],
          [
           0.4,
           "rgb(253,224,239)"
          ],
          [
           0.5,
           "rgb(247,247,247)"
          ],
          [
           0.6,
           "rgb(230,245,208)"
          ],
          [
           0.7,
           "rgb(184,225,134)"
          ],
          [
           0.8,
           "rgb(127,188,65)"
          ],
          [
           0.9,
           "rgb(77,146,33)"
          ],
          [
           1,
           "rgb(39,100,25)"
          ]
         ]
        },
        "geo": {
         "center": {},
         "domain": {
          "x": [
           0,
           1
          ],
          "y": [
           0,
           1
          ]
         },
         "projection": {
          "type": "equirectangular"
         },
         "showcoastlines": true,
         "showframe": false
        },
        "legend": {
         "tracegroupgap": 0
        },
        "template": {
         "data": {
          "bar": [
           {
            "error_x": {
             "color": "#2a3f5f"
            },
            "error_y": {
             "color": "#2a3f5f"
            },
            "marker": {
             "line": {
              "color": "#E5ECF6",
              "width": 0.5
             },
             "pattern": {
              "fillmode": "overlay",
              "size": 10,
              "solidity": 0.2
             }
            },
            "type": "bar"
           }
          ],
          "barpolar": [
           {
            "marker": {
             "line": {
              "color": "#E5ECF6",
              "width": 0.5
             },
             "pattern": {
              "fillmode": "overlay",
              "size": 10,
              "solidity": 0.2
             }
            },
            "type": "barpolar"
           }
          ],
          "carpet": [
           {
            "aaxis": {
             "endlinecolor": "#2a3f5f",
             "gridcolor": "white",
             "linecolor": "white",
             "minorgridcolor": "white",
             "startlinecolor": "#2a3f5f"
            },
            "baxis": {
             "endlinecolor": "#2a3f5f",
             "gridcolor": "white",
             "linecolor": "white",
             "minorgridcolor": "white",
             "startlinecolor": "#2a3f5f"
            },
            "type": "carpet"
           }
          ],
          "choropleth": [
           {
            "colorbar": {
             "outlinewidth": 0,
             "ticks": ""
            },
            "type": "choropleth"
           }
          ],
          "contour": [
           {
            "colorbar": {
             "outlinewidth": 0,
             "ticks": ""
            },
            "colorscale": [
             [
              0,
              "#0d0887"
             ],
             [
              0.1111111111111111,
              "#46039f"
             ],
             [
              0.2222222222222222,
              "#7201a8"
             ],
             [
              0.3333333333333333,
              "#9c179e"
             ],
             [
              0.4444444444444444,
              "#bd3786"
             ],
             [
              0.5555555555555556,
              "#d8576b"
             ],
             [
              0.6666666666666666,
              "#ed7953"
             ],
             [
              0.7777777777777778,
              "#fb9f3a"
             ],
             [
              0.8888888888888888,
              "#fdca26"
             ],
             [
              1,
              "#f0f921"
             ]
            ],
            "type": "contour"
           }
          ],
          "contourcarpet": [
           {
            "colorbar": {
             "outlinewidth": 0,
             "ticks": ""
            },
            "type": "contourcarpet"
           }
          ],
          "heatmap": [
           {
            "colorbar": {
             "outlinewidth": 0,
             "ticks": ""
            },
            "colorscale": [
             [
              0,
              "#0d0887"
             ],
             [
              0.1111111111111111,
              "#46039f"
             ],
             [
              0.2222222222222222,
              "#7201a8"
             ],
             [
              0.3333333333333333,
              "#9c179e"
             ],
             [
              0.4444444444444444,
              "#bd3786"
             ],
             [
              0.5555555555555556,
              "#d8576b"
             ],
             [
              0.6666666666666666,
              "#ed7953"
             ],
             [
              0.7777777777777778,
              "#fb9f3a"
             ],
             [
              0.8888888888888888,
              "#fdca26"
             ],
             [
              1,
              "#f0f921"
             ]
            ],
            "type": "heatmap"
           }
          ],
          "heatmapgl": [
           {
            "colorbar": {
             "outlinewidth": 0,
             "ticks": ""
            },
            "colorscale": [
             [
              0,
              "#0d0887"
             ],
             [
              0.1111111111111111,
              "#46039f"
             ],
             [
              0.2222222222222222,
              "#7201a8"
             ],
             [
              0.3333333333333333,
              "#9c179e"
             ],
             [
              0.4444444444444444,
              "#bd3786"
             ],
             [
              0.5555555555555556,
              "#d8576b"
             ],
             [
              0.6666666666666666,
              "#ed7953"
             ],
             [
              0.7777777777777778,
              "#fb9f3a"
             ],
             [
              0.8888888888888888,
              "#fdca26"
             ],
             [
              1,
              "#f0f921"
             ]
            ],
            "type": "heatmapgl"
           }
          ],
          "histogram": [
           {
            "marker": {
             "pattern": {
              "fillmode": "overlay",
              "size": 10,
              "solidity": 0.2
             }
            },
            "type": "histogram"
           }
          ],
          "histogram2d": [
           {
            "colorbar": {
             "outlinewidth": 0,
             "ticks": ""
            },
            "colorscale": [
             [
              0,
              "#0d0887"
             ],
             [
              0.1111111111111111,
              "#46039f"
             ],
             [
              0.2222222222222222,
              "#7201a8"
             ],
             [
              0.3333333333333333,
              "#9c179e"
             ],
             [
              0.4444444444444444,
              "#bd3786"
             ],
             [
              0.5555555555555556,
              "#d8576b"
             ],
             [
              0.6666666666666666,
              "#ed7953"
             ],
             [
              0.7777777777777778,
              "#fb9f3a"
             ],
             [
              0.8888888888888888,
              "#fdca26"
             ],
             [
              1,
              "#f0f921"
             ]
            ],
            "type": "histogram2d"
           }
          ],
          "histogram2dcontour": [
           {
            "colorbar": {
             "outlinewidth": 0,
             "ticks": ""
            },
            "colorscale": [
             [
              0,
              "#0d0887"
             ],
             [
              0.1111111111111111,
              "#46039f"
             ],
             [
              0.2222222222222222,
              "#7201a8"
             ],
             [
              0.3333333333333333,
              "#9c179e"
             ],
             [
              0.4444444444444444,
              "#bd3786"
             ],
             [
              0.5555555555555556,
              "#d8576b"
             ],
             [
              0.6666666666666666,
              "#ed7953"
             ],
             [
              0.7777777777777778,
              "#fb9f3a"
             ],
             [
              0.8888888888888888,
              "#fdca26"
             ],
             [
              1,
              "#f0f921"
             ]
            ],
            "type": "histogram2dcontour"
           }
          ],
          "mesh3d": [
           {
            "colorbar": {
             "outlinewidth": 0,
             "ticks": ""
            },
            "type": "mesh3d"
           }
          ],
          "parcoords": [
           {
            "line": {
             "colorbar": {
              "outlinewidth": 0,
              "ticks": ""
             }
            },
            "type": "parcoords"
           }
          ],
          "pie": [
           {
            "automargin": true,
            "type": "pie"
           }
          ],
          "scatter": [
           {
            "fillpattern": {
             "fillmode": "overlay",
             "size": 10,
             "solidity": 0.2
            },
            "type": "scatter"
           }
          ],
          "scatter3d": [
           {
            "line": {
             "colorbar": {
              "outlinewidth": 0,
              "ticks": ""
             }
            },
            "marker": {
             "colorbar": {
              "outlinewidth": 0,
              "ticks": ""
             }
            },
            "type": "scatter3d"
           }
          ],
          "scattercarpet": [
           {
            "marker": {
             "colorbar": {
              "outlinewidth": 0,
              "ticks": ""
             }
            },
            "type": "scattercarpet"
           }
          ],
          "scattergeo": [
           {
            "marker": {
             "colorbar": {
              "outlinewidth": 0,
              "ticks": ""
             }
            },
            "type": "scattergeo"
           }
          ],
          "scattergl": [
           {
            "marker": {
             "colorbar": {
              "outlinewidth": 0,
              "ticks": ""
             }
            },
            "type": "scattergl"
           }
          ],
          "scattermapbox": [
           {
            "marker": {
             "colorbar": {
              "outlinewidth": 0,
              "ticks": ""
             }
            },
            "type": "scattermapbox"
           }
          ],
          "scatterpolar": [
           {
            "marker": {
             "colorbar": {
              "outlinewidth": 0,
              "ticks": ""
             }
            },
            "type": "scatterpolar"
           }
          ],
          "scatterpolargl": [
           {
            "marker": {
             "colorbar": {
              "outlinewidth": 0,
              "ticks": ""
             }
            },
            "type": "scatterpolargl"
           }
          ],
          "scatterternary": [
           {
            "marker": {
             "colorbar": {
              "outlinewidth": 0,
              "ticks": ""
             }
            },
            "type": "scatterternary"
           }
          ],
          "surface": [
           {
            "colorbar": {
             "outlinewidth": 0,
             "ticks": ""
            },
            "colorscale": [
             [
              0,
              "#0d0887"
             ],
             [
              0.1111111111111111,
              "#46039f"
             ],
             [
              0.2222222222222222,
              "#7201a8"
             ],
             [
              0.3333333333333333,
              "#9c179e"
             ],
             [
              0.4444444444444444,
              "#bd3786"
             ],
             [
              0.5555555555555556,
              "#d8576b"
             ],
             [
              0.6666666666666666,
              "#ed7953"
             ],
             [
              0.7777777777777778,
              "#fb9f3a"
             ],
             [
              0.8888888888888888,
              "#fdca26"
             ],
             [
              1,
              "#f0f921"
             ]
            ],
            "type": "surface"
           }
          ],
          "table": [
           {
            "cells": {
             "fill": {
              "color": "#EBF0F8"
             },
             "line": {
              "color": "white"
             }
            },
            "header": {
             "fill": {
              "color": "#C8D4E3"
             },
             "line": {
              "color": "white"
             }
            },
            "type": "table"
           }
          ]
         },
         "layout": {
          "annotationdefaults": {
           "arrowcolor": "#2a3f5f",
           "arrowhead": 0,
           "arrowwidth": 1
          },
          "autotypenumbers": "strict",
          "coloraxis": {
           "colorbar": {
            "outlinewidth": 0,
            "ticks": ""
           }
          },
          "colorscale": {
           "diverging": [
            [
             0,
             "#8e0152"
            ],
            [
             0.1,
             "#c51b7d"
            ],
            [
             0.2,
             "#de77ae"
            ],
            [
             0.3,
             "#f1b6da"
            ],
            [
             0.4,
             "#fde0ef"
            ],
            [
             0.5,
             "#f7f7f7"
            ],
            [
             0.6,
             "#e6f5d0"
            ],
            [
             0.7,
             "#b8e186"
            ],
            [
             0.8,
             "#7fbc41"
            ],
            [
             0.9,
             "#4d9221"
            ],
            [
             1,
             "#276419"
            ]
           ],
           "sequential": [
            [
             0,
             "#0d0887"
            ],
            [
             0.1111111111111111,
             "#46039f"
            ],
            [
             0.2222222222222222,
             "#7201a8"
            ],
            [
             0.3333333333333333,
             "#9c179e"
            ],
            [
             0.4444444444444444,
             "#bd3786"
            ],
            [
             0.5555555555555556,
             "#d8576b"
            ],
            [
             0.6666666666666666,
             "#ed7953"
            ],
            [
             0.7777777777777778,
             "#fb9f3a"
            ],
            [
             0.8888888888888888,
             "#fdca26"
            ],
            [
             1,
             "#f0f921"
            ]
           ],
           "sequentialminus": [
            [
             0,
             "#0d0887"
            ],
            [
             0.1111111111111111,
             "#46039f"
            ],
            [
             0.2222222222222222,
             "#7201a8"
            ],
            [
             0.3333333333333333,
             "#9c179e"
            ],
            [
             0.4444444444444444,
             "#bd3786"
            ],
            [
             0.5555555555555556,
             "#d8576b"
            ],
            [
             0.6666666666666666,
             "#ed7953"
            ],
            [
             0.7777777777777778,
             "#fb9f3a"
            ],
            [
             0.8888888888888888,
             "#fdca26"
            ],
            [
             1,
             "#f0f921"
            ]
           ]
          },
          "colorway": [
           "#636efa",
           "#EF553B",
           "#00cc96",
           "#ab63fa",
           "#FFA15A",
           "#19d3f3",
           "#FF6692",
           "#B6E880",
           "#FF97FF",
           "#FECB52"
          ],
          "font": {
           "color": "#2a3f5f"
          },
          "geo": {
           "bgcolor": "white",
           "lakecolor": "white",
           "landcolor": "#E5ECF6",
           "showlakes": true,
           "showland": true,
           "subunitcolor": "white"
          },
          "hoverlabel": {
           "align": "left"
          },
          "hovermode": "closest",
          "mapbox": {
           "style": "light"
          },
          "paper_bgcolor": "white",
          "plot_bgcolor": "#E5ECF6",
          "polar": {
           "angularaxis": {
            "gridcolor": "white",
            "linecolor": "white",
            "ticks": ""
           },
           "bgcolor": "#E5ECF6",
           "radialaxis": {
            "gridcolor": "white",
            "linecolor": "white",
            "ticks": ""
           }
          },
          "scene": {
           "xaxis": {
            "backgroundcolor": "#E5ECF6",
            "gridcolor": "white",
            "gridwidth": 2,
            "linecolor": "white",
            "showbackground": true,
            "ticks": "",
            "zerolinecolor": "white"
           },
           "yaxis": {
            "backgroundcolor": "#E5ECF6",
            "gridcolor": "white",
            "gridwidth": 2,
            "linecolor": "white",
            "showbackground": true,
            "ticks": "",
            "zerolinecolor": "white"
           },
           "zaxis": {
            "backgroundcolor": "#E5ECF6",
            "gridcolor": "white",
            "gridwidth": 2,
            "linecolor": "white",
            "showbackground": true,
            "ticks": "",
            "zerolinecolor": "white"
           }
          },
          "shapedefaults": {
           "line": {
            "color": "#2a3f5f"
           }
          },
          "ternary": {
           "aaxis": {
            "gridcolor": "white",
            "linecolor": "white",
            "ticks": ""
           },
           "baxis": {
            "gridcolor": "white",
            "linecolor": "white",
            "ticks": ""
           },
           "bgcolor": "#E5ECF6",
           "caxis": {
            "gridcolor": "white",
            "linecolor": "white",
            "ticks": ""
           }
          },
          "title": {
           "x": 0.05
          },
          "xaxis": {
           "automargin": true,
           "gridcolor": "white",
           "linecolor": "white",
           "ticks": "",
           "title": {
            "standoff": 15
           },
           "zerolinecolor": "white",
           "zerolinewidth": 2
          },
          "yaxis": {
           "automargin": true,
           "gridcolor": "white",
           "linecolor": "white",
           "ticks": "",
           "title": {
            "standoff": 15
           },
           "zerolinecolor": "white",
           "zerolinewidth": 2
          }
         }
        },
        "title": {
         "text": "Correlation between Children Out of School and Government Expenditure by Country"
        }
       }
      },
      "text/html": [
       "<div>                            <div id=\"dd7193f5-a0ec-493e-b6e3-155e56f8099d\" class=\"plotly-graph-div\" style=\"height:525px; width:100%;\"></div>            <script type=\"text/javascript\">                require([\"plotly\"], function(Plotly) {                    window.PLOTLYENV=window.PLOTLYENV || {};                                    if (document.getElementById(\"dd7193f5-a0ec-493e-b6e3-155e56f8099d\")) {                    Plotly.newPlot(                        \"dd7193f5-a0ec-493e-b6e3-155e56f8099d\",                        [{\"coloraxis\":\"coloraxis\",\"geo\":\"geo\",\"hovertemplate\":\"<b>%{hovertext}</b><br><br>Country=%{location}<br>Correlation=%{z}<extra></extra>\",\"hovertext\":[\"Afghanistan\",\"Albania\",\"Armenia\",\"Azerbaijan\",\"Bangladesh\",\"Belarus\",\"Bhutan\",\"Bolivia (Plurinational State of)\",\"Brazil\",\"Burkina Faso\",\"Burundi\",\"Cameroon\",\"Chile\",\"China, Macao Special Administrative Region\",\"Colombia\",\"Costa Rica\",\"C\\u00f4te d'Ivoire\",\"Dominican Republic\",\"Ecuador\",\"Egypt\",\"El Salvador\",\"Georgia\",\"Guatemala\",\"Guinea\",\"Honduras\",\"Iran (Islamic Republic of)\",\"Italy\",\"Jordan\",\"Kyrgyzstan\",\"Liberia\",\"Madagascar\",\"Mali\",\"Mauritania\",\"Mauritius\",\"Mexico\",\"Mozambique\",\"Myanmar\",\"Oman\",\"Pakistan\",\"Palestine\",\"Paraguay\",\"Peru\",\"Republic of Korea\",\"Republic of Moldova\",\"Rwanda\",\"Senegal\",\"Serbia\",\"Sierra Leone\",\"Singapore\",\"South Africa\",\"Spain\",\"Sri Lanka\",\"T\\u00fcrkiye\",\"Uganda\",\"United Arab Emirates\",\"Uruguay\",\"Uzbekistan\"],\"locationmode\":\"country names\",\"locations\":[\"Afghanistan\",\"Albania\",\"Armenia\",\"Azerbaijan\",\"Bangladesh\",\"Belarus\",\"Bhutan\",\"Bolivia (Plurinational State of)\",\"Brazil\",\"Burkina Faso\",\"Burundi\",\"Cameroon\",\"Chile\",\"China, Macao Special Administrative Region\",\"Colombia\",\"Costa Rica\",\"C\\u00f4te d'Ivoire\",\"Dominican Republic\",\"Ecuador\",\"Egypt\",\"El Salvador\",\"Georgia\",\"Guatemala\",\"Guinea\",\"Honduras\",\"Iran (Islamic Republic of)\",\"Italy\",\"Jordan\",\"Kyrgyzstan\",\"Liberia\",\"Madagascar\",\"Mali\",\"Mauritania\",\"Mauritius\",\"Mexico\",\"Mozambique\",\"Myanmar\",\"Oman\",\"Pakistan\",\"Palestine\",\"Paraguay\",\"Peru\",\"Republic of Korea\",\"Republic of Moldova\",\"Rwanda\",\"Senegal\",\"Serbia\",\"Sierra Leone\",\"Singapore\",\"South Africa\",\"Spain\",\"Sri Lanka\",\"T\\u00fcrkiye\",\"Uganda\",\"United Arab Emirates\",\"Uruguay\",\"Uzbekistan\"],\"name\":\"\",\"z\":[null,-2.9770767843303872e-18,-0.003193894546744821,8.573934332513941e-06,-0.0014544083274832895,2.9635395138227028e-18,0.0,-1.785633138816123e-18,8.098993952738911e-05,0.0,null,-7.540522738777414e-17,-7.066432863564491e-19,-1.0422125711701907e-17,-0.0038152735325803705,4.090035574083832e-18,1.2237859325589253e-19,-1.2462599989849203e-18,0.0011898537293045304,-0.024160438435961,0.0010892264641557481,-0.258768637377422,0.0018722832795068387,-5.827480214690776e-18,null,-7.757739233720271e-18,-5.619180650028334e-18,-6.942570500671199e-18,1.0242768378309158e-17,null,null,0.009204479668844452,-2.95261608153232e-19,1.886668128858183e-17,0.0004660418705614968,null,3.3736281253589015e-18,0.07326318104063825,0.01617199877658612,1.84246692001349e-16,-3.695800444060527e-18,0.00043728175996514716,-8.440951807114577e-18,9.538192966102463e-18,-0.015814884712425457,null,6.820253393933127e-18,-1.0748531116117284e-17,-0.002135839725285401,-0.006110694623347073,-0.0010702366281118304,0.004893717426398392,-0.0026107990468203484,null,-0.00513425584016617,-0.0008252531273341377,-0.04987419597331144],\"type\":\"choropleth\"}],                        {\"template\":{\"data\":{\"histogram2dcontour\":[{\"type\":\"histogram2dcontour\",\"colorbar\":{\"outlinewidth\":0,\"ticks\":\"\"},\"colorscale\":[[0.0,\"#0d0887\"],[0.1111111111111111,\"#46039f\"],[0.2222222222222222,\"#7201a8\"],[0.3333333333333333,\"#9c179e\"],[0.4444444444444444,\"#bd3786\"],[0.5555555555555556,\"#d8576b\"],[0.6666666666666666,\"#ed7953\"],[0.7777777777777778,\"#fb9f3a\"],[0.8888888888888888,\"#fdca26\"],[1.0,\"#f0f921\"]]}],\"choropleth\":[{\"type\":\"choropleth\",\"colorbar\":{\"outlinewidth\":0,\"ticks\":\"\"}}],\"histogram2d\":[{\"type\":\"histogram2d\",\"colorbar\":{\"outlinewidth\":0,\"ticks\":\"\"},\"colorscale\":[[0.0,\"#0d0887\"],[0.1111111111111111,\"#46039f\"],[0.2222222222222222,\"#7201a8\"],[0.3333333333333333,\"#9c179e\"],[0.4444444444444444,\"#bd3786\"],[0.5555555555555556,\"#d8576b\"],[0.6666666666666666,\"#ed7953\"],[0.7777777777777778,\"#fb9f3a\"],[0.8888888888888888,\"#fdca26\"],[1.0,\"#f0f921\"]]}],\"heatmap\":[{\"type\":\"heatmap\",\"colorbar\":{\"outlinewidth\":0,\"ticks\":\"\"},\"colorscale\":[[0.0,\"#0d0887\"],[0.1111111111111111,\"#46039f\"],[0.2222222222222222,\"#7201a8\"],[0.3333333333333333,\"#9c179e\"],[0.4444444444444444,\"#bd3786\"],[0.5555555555555556,\"#d8576b\"],[0.6666666666666666,\"#ed7953\"],[0.7777777777777778,\"#fb9f3a\"],[0.8888888888888888,\"#fdca26\"],[1.0,\"#f0f921\"]]}],\"heatmapgl\":[{\"type\":\"heatmapgl\",\"colorbar\":{\"outlinewidth\":0,\"ticks\":\"\"},\"colorscale\":[[0.0,\"#0d0887\"],[0.1111111111111111,\"#46039f\"],[0.2222222222222222,\"#7201a8\"],[0.3333333333333333,\"#9c179e\"],[0.4444444444444444,\"#bd3786\"],[0.5555555555555556,\"#d8576b\"],[0.6666666666666666,\"#ed7953\"],[0.7777777777777778,\"#fb9f3a\"],[0.8888888888888888,\"#fdca26\"],[1.0,\"#f0f921\"]]}],\"contourcarpet\":[{\"type\":\"contourcarpet\",\"colorbar\":{\"outlinewidth\":0,\"ticks\":\"\"}}],\"contour\":[{\"type\":\"contour\",\"colorbar\":{\"outlinewidth\":0,\"ticks\":\"\"},\"colorscale\":[[0.0,\"#0d0887\"],[0.1111111111111111,\"#46039f\"],[0.2222222222222222,\"#7201a8\"],[0.3333333333333333,\"#9c179e\"],[0.4444444444444444,\"#bd3786\"],[0.5555555555555556,\"#d8576b\"],[0.6666666666666666,\"#ed7953\"],[0.7777777777777778,\"#fb9f3a\"],[0.8888888888888888,\"#fdca26\"],[1.0,\"#f0f921\"]]}],\"surface\":[{\"type\":\"surface\",\"colorbar\":{\"outlinewidth\":0,\"ticks\":\"\"},\"colorscale\":[[0.0,\"#0d0887\"],[0.1111111111111111,\"#46039f\"],[0.2222222222222222,\"#7201a8\"],[0.3333333333333333,\"#9c179e\"],[0.4444444444444444,\"#bd3786\"],[0.5555555555555556,\"#d8576b\"],[0.6666666666666666,\"#ed7953\"],[0.7777777777777778,\"#fb9f3a\"],[0.8888888888888888,\"#fdca26\"],[1.0,\"#f0f921\"]]}],\"mesh3d\":[{\"type\":\"mesh3d\",\"colorbar\":{\"outlinewidth\":0,\"ticks\":\"\"}}],\"scatter\":[{\"fillpattern\":{\"fillmode\":\"overlay\",\"size\":10,\"solidity\":0.2},\"type\":\"scatter\"}],\"parcoords\":[{\"type\":\"parcoords\",\"line\":{\"colorbar\":{\"outlinewidth\":0,\"ticks\":\"\"}}}],\"scatterpolargl\":[{\"type\":\"scatterpolargl\",\"marker\":{\"colorbar\":{\"outlinewidth\":0,\"ticks\":\"\"}}}],\"bar\":[{\"error_x\":{\"color\":\"#2a3f5f\"},\"error_y\":{\"color\":\"#2a3f5f\"},\"marker\":{\"line\":{\"color\":\"#E5ECF6\",\"width\":0.5},\"pattern\":{\"fillmode\":\"overlay\",\"size\":10,\"solidity\":0.2}},\"type\":\"bar\"}],\"scattergeo\":[{\"type\":\"scattergeo\",\"marker\":{\"colorbar\":{\"outlinewidth\":0,\"ticks\":\"\"}}}],\"scatterpolar\":[{\"type\":\"scatterpolar\",\"marker\":{\"colorbar\":{\"outlinewidth\":0,\"ticks\":\"\"}}}],\"histogram\":[{\"marker\":{\"pattern\":{\"fillmode\":\"overlay\",\"size\":10,\"solidity\":0.2}},\"type\":\"histogram\"}],\"scattergl\":[{\"type\":\"scattergl\",\"marker\":{\"colorbar\":{\"outlinewidth\":0,\"ticks\":\"\"}}}],\"scatter3d\":[{\"type\":\"scatter3d\",\"line\":{\"colorbar\":{\"outlinewidth\":0,\"ticks\":\"\"}},\"marker\":{\"colorbar\":{\"outlinewidth\":0,\"ticks\":\"\"}}}],\"scattermapbox\":[{\"type\":\"scattermapbox\",\"marker\":{\"colorbar\":{\"outlinewidth\":0,\"ticks\":\"\"}}}],\"scatterternary\":[{\"type\":\"scatterternary\",\"marker\":{\"colorbar\":{\"outlinewidth\":0,\"ticks\":\"\"}}}],\"scattercarpet\":[{\"type\":\"scattercarpet\",\"marker\":{\"colorbar\":{\"outlinewidth\":0,\"ticks\":\"\"}}}],\"carpet\":[{\"aaxis\":{\"endlinecolor\":\"#2a3f5f\",\"gridcolor\":\"white\",\"linecolor\":\"white\",\"minorgridcolor\":\"white\",\"startlinecolor\":\"#2a3f5f\"},\"baxis\":{\"endlinecolor\":\"#2a3f5f\",\"gridcolor\":\"white\",\"linecolor\":\"white\",\"minorgridcolor\":\"white\",\"startlinecolor\":\"#2a3f5f\"},\"type\":\"carpet\"}],\"table\":[{\"cells\":{\"fill\":{\"color\":\"#EBF0F8\"},\"line\":{\"color\":\"white\"}},\"header\":{\"fill\":{\"color\":\"#C8D4E3\"},\"line\":{\"color\":\"white\"}},\"type\":\"table\"}],\"barpolar\":[{\"marker\":{\"line\":{\"color\":\"#E5ECF6\",\"width\":0.5},\"pattern\":{\"fillmode\":\"overlay\",\"size\":10,\"solidity\":0.2}},\"type\":\"barpolar\"}],\"pie\":[{\"automargin\":true,\"type\":\"pie\"}]},\"layout\":{\"autotypenumbers\":\"strict\",\"colorway\":[\"#636efa\",\"#EF553B\",\"#00cc96\",\"#ab63fa\",\"#FFA15A\",\"#19d3f3\",\"#FF6692\",\"#B6E880\",\"#FF97FF\",\"#FECB52\"],\"font\":{\"color\":\"#2a3f5f\"},\"hovermode\":\"closest\",\"hoverlabel\":{\"align\":\"left\"},\"paper_bgcolor\":\"white\",\"plot_bgcolor\":\"#E5ECF6\",\"polar\":{\"bgcolor\":\"#E5ECF6\",\"angularaxis\":{\"gridcolor\":\"white\",\"linecolor\":\"white\",\"ticks\":\"\"},\"radialaxis\":{\"gridcolor\":\"white\",\"linecolor\":\"white\",\"ticks\":\"\"}},\"ternary\":{\"bgcolor\":\"#E5ECF6\",\"aaxis\":{\"gridcolor\":\"white\",\"linecolor\":\"white\",\"ticks\":\"\"},\"baxis\":{\"gridcolor\":\"white\",\"linecolor\":\"white\",\"ticks\":\"\"},\"caxis\":{\"gridcolor\":\"white\",\"linecolor\":\"white\",\"ticks\":\"\"}},\"coloraxis\":{\"colorbar\":{\"outlinewidth\":0,\"ticks\":\"\"}},\"colorscale\":{\"sequential\":[[0.0,\"#0d0887\"],[0.1111111111111111,\"#46039f\"],[0.2222222222222222,\"#7201a8\"],[0.3333333333333333,\"#9c179e\"],[0.4444444444444444,\"#bd3786\"],[0.5555555555555556,\"#d8576b\"],[0.6666666666666666,\"#ed7953\"],[0.7777777777777778,\"#fb9f3a\"],[0.8888888888888888,\"#fdca26\"],[1.0,\"#f0f921\"]],\"sequentialminus\":[[0.0,\"#0d0887\"],[0.1111111111111111,\"#46039f\"],[0.2222222222222222,\"#7201a8\"],[0.3333333333333333,\"#9c179e\"],[0.4444444444444444,\"#bd3786\"],[0.5555555555555556,\"#d8576b\"],[0.6666666666666666,\"#ed7953\"],[0.7777777777777778,\"#fb9f3a\"],[0.8888888888888888,\"#fdca26\"],[1.0,\"#f0f921\"]],\"diverging\":[[0,\"#8e0152\"],[0.1,\"#c51b7d\"],[0.2,\"#de77ae\"],[0.3,\"#f1b6da\"],[0.4,\"#fde0ef\"],[0.5,\"#f7f7f7\"],[0.6,\"#e6f5d0\"],[0.7,\"#b8e186\"],[0.8,\"#7fbc41\"],[0.9,\"#4d9221\"],[1,\"#276419\"]]},\"xaxis\":{\"gridcolor\":\"white\",\"linecolor\":\"white\",\"ticks\":\"\",\"title\":{\"standoff\":15},\"zerolinecolor\":\"white\",\"automargin\":true,\"zerolinewidth\":2},\"yaxis\":{\"gridcolor\":\"white\",\"linecolor\":\"white\",\"ticks\":\"\",\"title\":{\"standoff\":15},\"zerolinecolor\":\"white\",\"automargin\":true,\"zerolinewidth\":2},\"scene\":{\"xaxis\":{\"backgroundcolor\":\"#E5ECF6\",\"gridcolor\":\"white\",\"linecolor\":\"white\",\"showbackground\":true,\"ticks\":\"\",\"zerolinecolor\":\"white\",\"gridwidth\":2},\"yaxis\":{\"backgroundcolor\":\"#E5ECF6\",\"gridcolor\":\"white\",\"linecolor\":\"white\",\"showbackground\":true,\"ticks\":\"\",\"zerolinecolor\":\"white\",\"gridwidth\":2},\"zaxis\":{\"backgroundcolor\":\"#E5ECF6\",\"gridcolor\":\"white\",\"linecolor\":\"white\",\"showbackground\":true,\"ticks\":\"\",\"zerolinecolor\":\"white\",\"gridwidth\":2}},\"shapedefaults\":{\"line\":{\"color\":\"#2a3f5f\"}},\"annotationdefaults\":{\"arrowcolor\":\"#2a3f5f\",\"arrowhead\":0,\"arrowwidth\":1},\"geo\":{\"bgcolor\":\"white\",\"landcolor\":\"#E5ECF6\",\"subunitcolor\":\"white\",\"showland\":true,\"showlakes\":true,\"lakecolor\":\"white\"},\"title\":{\"x\":0.05},\"mapbox\":{\"style\":\"light\"}}},\"geo\":{\"domain\":{\"x\":[0.0,1.0],\"y\":[0.0,1.0]},\"center\":{},\"projection\":{\"type\":\"equirectangular\"},\"showframe\":false,\"showcoastlines\":true},\"coloraxis\":{\"colorbar\":{\"title\":{\"text\":\"Correlation\"}},\"colorscale\":[[0.0,\"rgb(142,1,82)\"],[0.1,\"rgb(197,27,125)\"],[0.2,\"rgb(222,119,174)\"],[0.3,\"rgb(241,182,218)\"],[0.4,\"rgb(253,224,239)\"],[0.5,\"rgb(247,247,247)\"],[0.6,\"rgb(230,245,208)\"],[0.7,\"rgb(184,225,134)\"],[0.8,\"rgb(127,188,65)\"],[0.9,\"rgb(77,146,33)\"],[1.0,\"rgb(39,100,25)\"]]},\"legend\":{\"tracegroupgap\":0},\"title\":{\"text\":\"Correlation between Children Out of School and Government Expenditure by Country\"}},                        {\"responsive\": true}                    ).then(function(){\n",
       "                            \n",
       "var gd = document.getElementById('dd7193f5-a0ec-493e-b6e3-155e56f8099d');\n",
       "var x = new MutationObserver(function (mutations, observer) {{\n",
       "        var display = window.getComputedStyle(gd).display;\n",
       "        if (!display || display === 'none') {{\n",
       "            console.log([gd, 'removed!']);\n",
       "            Plotly.purge(gd);\n",
       "            observer.disconnect();\n",
       "        }}\n",
       "}});\n",
       "\n",
       "// Listen for the removal of the full notebook cells\n",
       "var notebookContainer = gd.closest('#notebook-container');\n",
       "if (notebookContainer) {{\n",
       "    x.observe(notebookContainer, {childList: true});\n",
       "}}\n",
       "\n",
       "// Listen for the clearing of the current output cell\n",
       "var outputEl = gd.closest('.output');\n",
       "if (outputEl) {{\n",
       "    x.observe(outputEl, {childList: true});\n",
       "}}\n",
       "\n",
       "                        })                };                });            </script>        </div>"
      ]
     },
     "metadata": {},
     "output_type": "display_data"
    }
   ],
   "source": [
    "# Selecionar as colunas necessárias\n",
    "illetarate_population_filtered = illetarate_population[['Country', 'Time', 'Value']].rename(columns={'Value': 'Illetaracy'})\n",
    "government_expenditure_filtered = government_expenditure[['Country', 'Time', 'Value']].rename(columns={'Value': 'Government_Expenditure'})\n",
    "\n",
    "# Combinar os datasets baseados em país e ano\n",
    "merged_data_exp = pd.merge(illetarate_population_filtered, government_expenditure_filtered, on=['Country', 'Time'])\n",
    "\n",
    "# Remover linhas com valores NaN\n",
    "cleaned_data_exp = merged_data_exp.dropna()\n",
    "\n",
    "# Calcular a correlação para cada país\n",
    "country_correlations_exp = cleaned_data_exp.groupby('Country').apply(\n",
    "    lambda x: x['Illetaracy'].corr(x['Government_Expenditure'])\n",
    ").reset_index().rename(columns={0: 'Correlation'})\n",
    "\n",
    "# Criar o mapa com as correlações individuais dos países\n",
    "fig_map_exp = px.choropleth(country_correlations_exp, \n",
    "                            locations=\"Country\",\n",
    "                            locationmode='country names',\n",
    "                            color=\"Correlation\",\n",
    "                            hover_name=\"Country\",\n",
    "                            color_continuous_scale=px.colors.diverging.PiYG,\n",
    "                            title=\"Correlation between levels of illetaracy and Government Expenditure by Country\")\n",
    "\n",
    "# Atualizar o layout para melhor legibilidade\n",
    "fig_map_exp.update_layout(\n",
    "    geo=dict(showframe=False, showcoastlines=True, projection_type='equirectangular')\n",
    ")\n"
   ]
  },
  {
   "cell_type": "code",
   "execution_count": 44,
   "id": "9c130b32",
   "metadata": {},
   "outputs": [
    {
     "data": {
      "text/plain": [
       "(        Country  Correlation\n",
       " 37         Oman     0.073263\n",
       " 38     Pakistan     0.016172\n",
       " 31         Mali     0.009204\n",
       " 51    Sri Lanka     0.004894\n",
       " 22    Guatemala     0.001872\n",
       " 18      Ecuador     0.001190\n",
       " 20  El Salvador     0.001089\n",
       " 34       Mexico     0.000466\n",
       " 41         Peru     0.000437\n",
       " 8        Brazil     0.000081,\n",
       "                  Country  Correlation\n",
       " 21               Georgia    -0.258769\n",
       " 56            Uzbekistan    -0.049874\n",
       " 19                 Egypt    -0.024160\n",
       " 44                Rwanda    -0.015815\n",
       " 49          South Africa    -0.006111\n",
       " 54  United Arab Emirates    -0.005134\n",
       " 14              Colombia    -0.003815\n",
       " 2                Armenia    -0.003194\n",
       " 52               Türkiye    -0.002611\n",
       " 48             Singapore    -0.002136)"
      ]
     },
     "execution_count": 44,
     "metadata": {},
     "output_type": "execute_result"
    }
   ],
   "source": [
    "# Sort the correlations to get the top 10 highest and lowest correlations\n",
    "top_10_highest_correlations = country_correlations_exp.sort_values(by='Correlation', ascending=False).head(10)\n",
    "top_10_lowest_correlations = country_correlations_exp.sort_values(by='Correlation').head(10)\n",
    "\n",
    "top_10_highest_correlations, top_10_lowest_correlations"
   ]
  },
  {
   "cell_type": "markdown",
   "id": "5d1daaaa",
   "metadata": {},
   "source": [
    "Correlações Positivas Fracas:\n",
    "A maioria das correlações positivas entre o gasto governamental e a população analfabeta são extremamente fracas, próximas de zero. Isso sugere que, nesses países, o aumento do gasto governamental não está significativamente associado a uma redução da população analfabeta.\n",
    "Exemplos como Omã (0.0733) mostram uma correlação positiva ligeiramente maior, mas ainda muito fraca, indicando que há uma relação muito limitada entre os gastos e a taxa de alfabetização.\n",
    "\n",
    "Correlações Negativas:\n",
    "Alguns países, como Geórgia (-0.2588) e Uzbequistão (-0.0499), apresentam correlações negativas mais significativas. Isso sugere que, nesses países, um maior gasto governamental está associado a uma diminuição na população analfabeta, indicando que os investimentos governamentais podem estar contribuindo para melhorar a alfabetização.\n",
    "No entanto, essas correlações negativas também não são muito fortes, indicando que, embora possa haver algum efeito, ele não é dominante."
   ]
  },
  {
   "cell_type": "code",
   "execution_count": null,
   "id": "96398250",
   "metadata": {},
   "outputs": [],
   "source": []
  },
  {
   "cell_type": "markdown",
   "id": "ba622993",
   "metadata": {},
   "source": [
    "# Gasto governamental em educação vs taxa de crianças que completam a educação primária"
   ]
  },
  {
   "cell_type": "code",
   "execution_count": 45,
   "id": "0003df81",
   "metadata": {},
   "outputs": [
    {
     "data": {
      "text/plain": [
       "(           NATMON_IND                                          Indicator  \\\n",
       " 0  X_USCONST_02_FSGOV  Government expenditure on pre-primary educatio...   \n",
       " 1  X_USCONST_02_FSGOV  Government expenditure on pre-primary educatio...   \n",
       " 2  X_USCONST_02_FSGOV  Government expenditure on pre-primary educatio...   \n",
       " 3   X_USCONST_2_FSGOV  Government expenditure on lower secondary educ...   \n",
       " 4   X_USCONST_2_FSGOV  Government expenditure on lower secondary educ...   \n",
       " \n",
       "   LOCATION Country  TIME  Time        Value Flag Codes Flags  \n",
       " 0      GRC  Greece  2017  2017    538.50359        NaN   NaN  \n",
       " 1      GRC  Greece  2018  2018    557.72537        NaN   NaN  \n",
       " 2      GRC  Greece  2019  2019    588.75234        NaN   NaN  \n",
       " 3      IND   India  2017  2017  14367.64709        NaN   NaN  \n",
       " 4      IND   India  2018  2018  15425.28270        NaN   NaN  ,\n",
       "         NATMON_IND                                          Indicator  \\\n",
       " 0  SR_1_GLAST_F_CP  Survival rate to the last grade of primary edu...   \n",
       " 1  SR_1_GLAST_F_CP  Survival rate to the last grade of primary edu...   \n",
       " 2  SR_1_GLAST_F_CP  Survival rate to the last grade of primary edu...   \n",
       " 3  SR_1_GLAST_F_CP  Survival rate to the last grade of primary edu...   \n",
       " 4       SR_1_G5_CP  Survival rate to Grade 5 of primary education,...   \n",
       " \n",
       "   LOCATION   Country  TIME  Time     Value Flag Codes Flags  \n",
       " 0      MYS  Malaysia  2017  2017  93.38603        NaN   NaN  \n",
       " 1      MYS  Malaysia  2018  2018  91.71325        NaN   NaN  \n",
       " 2      MYS  Malaysia  2019  2019  98.80791        NaN   NaN  \n",
       " 3      MYS  Malaysia  2020  2020  97.59411        NaN   NaN  \n",
       " 4      HND  Honduras  2019  2019  81.42068        NaN   NaN  )"
      ]
     },
     "execution_count": 45,
     "metadata": {},
     "output_type": "execute_result"
    }
   ],
   "source": [
    "# Load the new dataset for government expenditure\n",
    "government_expenditure = pd.read_csv('Government_exp_const_usd.csv')\n",
    "\n",
    "# Load the dataset for children out of school again to ensure consistency\n",
    "survival_rate_ed = pd.read_csv('Survival_rate_primary_ed.csv')\n",
    "\n",
    "# Display the first few rows of the new dataset to understand its structure\n",
    "government_expenditure.head(), survival_rate_ed.head()\n"
   ]
  },
  {
   "cell_type": "code",
   "execution_count": 49,
   "id": "ec524f64",
   "metadata": {},
   "outputs": [
    {
     "data": {
      "application/vnd.plotly.v1+json": {
       "config": {
        "plotlyServerURL": "https://plot.ly"
       },
       "data": [
        {
         "coloraxis": "coloraxis",
         "geo": "geo",
         "hovertemplate": "<b>%{hovertext}</b><br><br>Country=%{location}<br>Correlation=%{z}<extra></extra>",
         "hovertext": [
          "Albania",
          "Andorra",
          "Argentina",
          "Armenia",
          "Austria",
          "Azerbaijan",
          "Bahrain",
          "Barbados",
          "Belarus",
          "Belgium",
          "Belize",
          "Benin",
          "Bhutan",
          "Bolivia (Plurinational State of)",
          "Bosnia and Herzegovina",
          "Bulgaria",
          "Burkina Faso",
          "Burundi",
          "Cabo Verde",
          "Cambodia",
          "Cameroon",
          "Chad",
          "Chile",
          "China, Hong Kong Special Administrative Region",
          "China, Macao Special Administrative Region",
          "Colombia",
          "Costa Rica",
          "Croatia",
          "Cyprus",
          "Czechia",
          "Côte d'Ivoire",
          "Denmark",
          "Djibouti",
          "Dominican Republic",
          "Ecuador",
          "Egypt",
          "El Salvador",
          "Estonia",
          "Finland",
          "Gambia",
          "Georgia",
          "Ghana",
          "Greece",
          "Grenada",
          "Guatemala",
          "Hungary",
          "Iceland",
          "India",
          "Israel",
          "Italy",
          "Jamaica",
          "Jordan",
          "Kazakhstan",
          "Kyrgyzstan",
          "Latvia",
          "Lithuania",
          "Luxembourg",
          "Madagascar",
          "Malawi",
          "Malaysia",
          "Maldives",
          "Malta",
          "Marshall Islands",
          "Mauritius",
          "Mexico",
          "Mongolia",
          "Mozambique",
          "Namibia",
          "Norway",
          "Oman",
          "Pakistan",
          "Palestine",
          "Paraguay",
          "Peru",
          "Poland",
          "Portugal",
          "Qatar",
          "Republic of Korea",
          "Republic of Moldova",
          "Romania",
          "Russian Federation",
          "Rwanda",
          "Saint Lucia",
          "Saint Vincent and the Grenadines",
          "San Marino",
          "Serbia",
          "Sierra Leone",
          "Singapore",
          "Slovakia",
          "Slovenia",
          "South Africa",
          "Spain",
          "Sri Lanka",
          "Sweden",
          "Switzerland",
          "Timor-Leste",
          "Türkiye",
          "Ukraine",
          "United Kingdom of Great Britain and Northern Ireland",
          "United Republic of Tanzania",
          "United States of America",
          "Uruguay",
          "Uzbekistan",
          "Vanuatu",
          "Zimbabwe"
         ],
         "locationmode": "country names",
         "locations": [
          "Albania",
          "Andorra",
          "Argentina",
          "Armenia",
          "Austria",
          "Azerbaijan",
          "Bahrain",
          "Barbados",
          "Belarus",
          "Belgium",
          "Belize",
          "Benin",
          "Bhutan",
          "Bolivia (Plurinational State of)",
          "Bosnia and Herzegovina",
          "Bulgaria",
          "Burkina Faso",
          "Burundi",
          "Cabo Verde",
          "Cambodia",
          "Cameroon",
          "Chad",
          "Chile",
          "China, Hong Kong Special Administrative Region",
          "China, Macao Special Administrative Region",
          "Colombia",
          "Costa Rica",
          "Croatia",
          "Cyprus",
          "Czechia",
          "Côte d'Ivoire",
          "Denmark",
          "Djibouti",
          "Dominican Republic",
          "Ecuador",
          "Egypt",
          "El Salvador",
          "Estonia",
          "Finland",
          "Gambia",
          "Georgia",
          "Ghana",
          "Greece",
          "Grenada",
          "Guatemala",
          "Hungary",
          "Iceland",
          "India",
          "Israel",
          "Italy",
          "Jamaica",
          "Jordan",
          "Kazakhstan",
          "Kyrgyzstan",
          "Latvia",
          "Lithuania",
          "Luxembourg",
          "Madagascar",
          "Malawi",
          "Malaysia",
          "Maldives",
          "Malta",
          "Marshall Islands",
          "Mauritius",
          "Mexico",
          "Mongolia",
          "Mozambique",
          "Namibia",
          "Norway",
          "Oman",
          "Pakistan",
          "Palestine",
          "Paraguay",
          "Peru",
          "Poland",
          "Portugal",
          "Qatar",
          "Republic of Korea",
          "Republic of Moldova",
          "Romania",
          "Russian Federation",
          "Rwanda",
          "Saint Lucia",
          "Saint Vincent and the Grenadines",
          "San Marino",
          "Serbia",
          "Sierra Leone",
          "Singapore",
          "Slovakia",
          "Slovenia",
          "South Africa",
          "Spain",
          "Sri Lanka",
          "Sweden",
          "Switzerland",
          "Timor-Leste",
          "Türkiye",
          "Ukraine",
          "United Kingdom of Great Britain and Northern Ireland",
          "United Republic of Tanzania",
          "United States of America",
          "Uruguay",
          "Uzbekistan",
          "Vanuatu",
          "Zimbabwe"
         ],
         "name": "",
         "type": "choropleth",
         "z": [
          0.0010981506292621398,
          -3.282548007348897e-05,
          -0.0010084071928348442,
          0.001054708541343679,
          -4.274718471378342e-06,
          0.014296977116660389,
          -1.588481176225194e-17,
          0.00016463848125624231,
          0.00024077918525562545,
          2.9101831576786728e-05,
          -0.0005066487572318845,
          1.797128127271855e-16,
          null,
          -4.158031840936914e-07,
          -0.0009045967771933339,
          0.0004264133039065018,
          -0.13335096912364502,
          -0.012057297910153197,
          -4.95253387201239e-18,
          1.3102386127994886e-16,
          0.31162140681009104,
          5.183874824720298e-17,
          -8.320367550348421e-05,
          -0.004390990135925451,
          9.971141203187492e-05,
          -6.826738670375226e-05,
          -4.24884769382818e-18,
          0.0004559482187169885,
          -5.6816394741540907e-05,
          4.801263434269647e-05,
          0.0023416488135276064,
          -3.0508864788637578e-06,
          null,
          -0.017761634507198355,
          0.0003131903707542867,
          0.030730714870606475,
          -4.353342969699922e-05,
          3.92935643391022e-06,
          1.141843596592276e-05,
          null,
          -0.00018901746577415618,
          3.1777498684300344e-17,
          0.00024162805236050612,
          -5.3173292405265164e-18,
          -0.001529312035260436,
          -6.628259096329577e-06,
          0.0006756792382664953,
          0.0005103004730306145,
          -4.47335444833542e-05,
          5.8114575238468986e-05,
          -3.3281998686111316e-05,
          0.0008663049351901602,
          -0.0009936702001858246,
          9.162474998557123e-05,
          0.0003744857577135557,
          0.0011416884537073023,
          -1.5910037609523179e-18,
          null,
          null,
          0.0016169723512169786,
          -5.521967577698076e-18,
          -0.00020387119466613377,
          -1.5751740985242443e-18,
          6.565332391608436e-05,
          -0.00017202662421327887,
          1.204194996307875e-19,
          0.03384322380882171,
          6.641948015635043e-18,
          -1.6660698149440043e-05,
          -0.0005124511660161825,
          -1.760548200285632e-18,
          -3.404156148900081e-18,
          -8.963655740595506e-18,
          0.00047019768985134906,
          -1.8568188612877404e-05,
          3.37014652349297e-05,
          -0.06986969972755756,
          0.00011751049522084804,
          0.0002697713715133259,
          0.0004253248501054894,
          4.363807392052381e-18,
          -0.038538211593028095,
          -0.0002961475486771028,
          -4.902463211135766e-18,
          -0.0019598535178114444,
          0.001945735984048516,
          0.08977340620193944,
          4.680255533610129e-05,
          0.0007872085338620377,
          -7.077747851007502e-05,
          0.0010741800556348094,
          1.4761948098616016e-05,
          0.0003280711531273628,
          3.1978236839232656e-06,
          -1.0325756844339921e-05,
          1.480610801618968e-16,
          -9.751864639974624e-06,
          -6.258849404655238e-05,
          -0.00011349984302639266,
          0.05757362773459233,
          -0.0017907080301938349,
          7.546349911547395e-05,
          0.0025541188280650165,
          0.014649379194302394,
          -0.02236744431498634
         ]
        }
       ],
       "layout": {
        "coloraxis": {
         "colorbar": {
          "title": {
           "text": "Correlation"
          }
         },
         "colorscale": [
          [
           0,
           "rgb(142,1,82)"
          ],
          [
           0.1,
           "rgb(197,27,125)"
          ],
          [
           0.2,
           "rgb(222,119,174)"
          ],
          [
           0.3,
           "rgb(241,182,218)"
          ],
          [
           0.4,
           "rgb(253,224,239)"
          ],
          [
           0.5,
           "rgb(247,247,247)"
          ],
          [
           0.6,
           "rgb(230,245,208)"
          ],
          [
           0.7,
           "rgb(184,225,134)"
          ],
          [
           0.8,
           "rgb(127,188,65)"
          ],
          [
           0.9,
           "rgb(77,146,33)"
          ],
          [
           1,
           "rgb(39,100,25)"
          ]
         ]
        },
        "geo": {
         "center": {},
         "domain": {
          "x": [
           0,
           1
          ],
          "y": [
           0,
           1
          ]
         },
         "projection": {
          "type": "equirectangular"
         },
         "showcoastlines": true,
         "showframe": false
        },
        "legend": {
         "tracegroupgap": 0
        },
        "template": {
         "data": {
          "bar": [
           {
            "error_x": {
             "color": "#2a3f5f"
            },
            "error_y": {
             "color": "#2a3f5f"
            },
            "marker": {
             "line": {
              "color": "#E5ECF6",
              "width": 0.5
             },
             "pattern": {
              "fillmode": "overlay",
              "size": 10,
              "solidity": 0.2
             }
            },
            "type": "bar"
           }
          ],
          "barpolar": [
           {
            "marker": {
             "line": {
              "color": "#E5ECF6",
              "width": 0.5
             },
             "pattern": {
              "fillmode": "overlay",
              "size": 10,
              "solidity": 0.2
             }
            },
            "type": "barpolar"
           }
          ],
          "carpet": [
           {
            "aaxis": {
             "endlinecolor": "#2a3f5f",
             "gridcolor": "white",
             "linecolor": "white",
             "minorgridcolor": "white",
             "startlinecolor": "#2a3f5f"
            },
            "baxis": {
             "endlinecolor": "#2a3f5f",
             "gridcolor": "white",
             "linecolor": "white",
             "minorgridcolor": "white",
             "startlinecolor": "#2a3f5f"
            },
            "type": "carpet"
           }
          ],
          "choropleth": [
           {
            "colorbar": {
             "outlinewidth": 0,
             "ticks": ""
            },
            "type": "choropleth"
           }
          ],
          "contour": [
           {
            "colorbar": {
             "outlinewidth": 0,
             "ticks": ""
            },
            "colorscale": [
             [
              0,
              "#0d0887"
             ],
             [
              0.1111111111111111,
              "#46039f"
             ],
             [
              0.2222222222222222,
              "#7201a8"
             ],
             [
              0.3333333333333333,
              "#9c179e"
             ],
             [
              0.4444444444444444,
              "#bd3786"
             ],
             [
              0.5555555555555556,
              "#d8576b"
             ],
             [
              0.6666666666666666,
              "#ed7953"
             ],
             [
              0.7777777777777778,
              "#fb9f3a"
             ],
             [
              0.8888888888888888,
              "#fdca26"
             ],
             [
              1,
              "#f0f921"
             ]
            ],
            "type": "contour"
           }
          ],
          "contourcarpet": [
           {
            "colorbar": {
             "outlinewidth": 0,
             "ticks": ""
            },
            "type": "contourcarpet"
           }
          ],
          "heatmap": [
           {
            "colorbar": {
             "outlinewidth": 0,
             "ticks": ""
            },
            "colorscale": [
             [
              0,
              "#0d0887"
             ],
             [
              0.1111111111111111,
              "#46039f"
             ],
             [
              0.2222222222222222,
              "#7201a8"
             ],
             [
              0.3333333333333333,
              "#9c179e"
             ],
             [
              0.4444444444444444,
              "#bd3786"
             ],
             [
              0.5555555555555556,
              "#d8576b"
             ],
             [
              0.6666666666666666,
              "#ed7953"
             ],
             [
              0.7777777777777778,
              "#fb9f3a"
             ],
             [
              0.8888888888888888,
              "#fdca26"
             ],
             [
              1,
              "#f0f921"
             ]
            ],
            "type": "heatmap"
           }
          ],
          "heatmapgl": [
           {
            "colorbar": {
             "outlinewidth": 0,
             "ticks": ""
            },
            "colorscale": [
             [
              0,
              "#0d0887"
             ],
             [
              0.1111111111111111,
              "#46039f"
             ],
             [
              0.2222222222222222,
              "#7201a8"
             ],
             [
              0.3333333333333333,
              "#9c179e"
             ],
             [
              0.4444444444444444,
              "#bd3786"
             ],
             [
              0.5555555555555556,
              "#d8576b"
             ],
             [
              0.6666666666666666,
              "#ed7953"
             ],
             [
              0.7777777777777778,
              "#fb9f3a"
             ],
             [
              0.8888888888888888,
              "#fdca26"
             ],
             [
              1,
              "#f0f921"
             ]
            ],
            "type": "heatmapgl"
           }
          ],
          "histogram": [
           {
            "marker": {
             "pattern": {
              "fillmode": "overlay",
              "size": 10,
              "solidity": 0.2
             }
            },
            "type": "histogram"
           }
          ],
          "histogram2d": [
           {
            "colorbar": {
             "outlinewidth": 0,
             "ticks": ""
            },
            "colorscale": [
             [
              0,
              "#0d0887"
             ],
             [
              0.1111111111111111,
              "#46039f"
             ],
             [
              0.2222222222222222,
              "#7201a8"
             ],
             [
              0.3333333333333333,
              "#9c179e"
             ],
             [
              0.4444444444444444,
              "#bd3786"
             ],
             [
              0.5555555555555556,
              "#d8576b"
             ],
             [
              0.6666666666666666,
              "#ed7953"
             ],
             [
              0.7777777777777778,
              "#fb9f3a"
             ],
             [
              0.8888888888888888,
              "#fdca26"
             ],
             [
              1,
              "#f0f921"
             ]
            ],
            "type": "histogram2d"
           }
          ],
          "histogram2dcontour": [
           {
            "colorbar": {
             "outlinewidth": 0,
             "ticks": ""
            },
            "colorscale": [
             [
              0,
              "#0d0887"
             ],
             [
              0.1111111111111111,
              "#46039f"
             ],
             [
              0.2222222222222222,
              "#7201a8"
             ],
             [
              0.3333333333333333,
              "#9c179e"
             ],
             [
              0.4444444444444444,
              "#bd3786"
             ],
             [
              0.5555555555555556,
              "#d8576b"
             ],
             [
              0.6666666666666666,
              "#ed7953"
             ],
             [
              0.7777777777777778,
              "#fb9f3a"
             ],
             [
              0.8888888888888888,
              "#fdca26"
             ],
             [
              1,
              "#f0f921"
             ]
            ],
            "type": "histogram2dcontour"
           }
          ],
          "mesh3d": [
           {
            "colorbar": {
             "outlinewidth": 0,
             "ticks": ""
            },
            "type": "mesh3d"
           }
          ],
          "parcoords": [
           {
            "line": {
             "colorbar": {
              "outlinewidth": 0,
              "ticks": ""
             }
            },
            "type": "parcoords"
           }
          ],
          "pie": [
           {
            "automargin": true,
            "type": "pie"
           }
          ],
          "scatter": [
           {
            "fillpattern": {
             "fillmode": "overlay",
             "size": 10,
             "solidity": 0.2
            },
            "type": "scatter"
           }
          ],
          "scatter3d": [
           {
            "line": {
             "colorbar": {
              "outlinewidth": 0,
              "ticks": ""
             }
            },
            "marker": {
             "colorbar": {
              "outlinewidth": 0,
              "ticks": ""
             }
            },
            "type": "scatter3d"
           }
          ],
          "scattercarpet": [
           {
            "marker": {
             "colorbar": {
              "outlinewidth": 0,
              "ticks": ""
             }
            },
            "type": "scattercarpet"
           }
          ],
          "scattergeo": [
           {
            "marker": {
             "colorbar": {
              "outlinewidth": 0,
              "ticks": ""
             }
            },
            "type": "scattergeo"
           }
          ],
          "scattergl": [
           {
            "marker": {
             "colorbar": {
              "outlinewidth": 0,
              "ticks": ""
             }
            },
            "type": "scattergl"
           }
          ],
          "scattermapbox": [
           {
            "marker": {
             "colorbar": {
              "outlinewidth": 0,
              "ticks": ""
             }
            },
            "type": "scattermapbox"
           }
          ],
          "scatterpolar": [
           {
            "marker": {
             "colorbar": {
              "outlinewidth": 0,
              "ticks": ""
             }
            },
            "type": "scatterpolar"
           }
          ],
          "scatterpolargl": [
           {
            "marker": {
             "colorbar": {
              "outlinewidth": 0,
              "ticks": ""
             }
            },
            "type": "scatterpolargl"
           }
          ],
          "scatterternary": [
           {
            "marker": {
             "colorbar": {
              "outlinewidth": 0,
              "ticks": ""
             }
            },
            "type": "scatterternary"
           }
          ],
          "surface": [
           {
            "colorbar": {
             "outlinewidth": 0,
             "ticks": ""
            },
            "colorscale": [
             [
              0,
              "#0d0887"
             ],
             [
              0.1111111111111111,
              "#46039f"
             ],
             [
              0.2222222222222222,
              "#7201a8"
             ],
             [
              0.3333333333333333,
              "#9c179e"
             ],
             [
              0.4444444444444444,
              "#bd3786"
             ],
             [
              0.5555555555555556,
              "#d8576b"
             ],
             [
              0.6666666666666666,
              "#ed7953"
             ],
             [
              0.7777777777777778,
              "#fb9f3a"
             ],
             [
              0.8888888888888888,
              "#fdca26"
             ],
             [
              1,
              "#f0f921"
             ]
            ],
            "type": "surface"
           }
          ],
          "table": [
           {
            "cells": {
             "fill": {
              "color": "#EBF0F8"
             },
             "line": {
              "color": "white"
             }
            },
            "header": {
             "fill": {
              "color": "#C8D4E3"
             },
             "line": {
              "color": "white"
             }
            },
            "type": "table"
           }
          ]
         },
         "layout": {
          "annotationdefaults": {
           "arrowcolor": "#2a3f5f",
           "arrowhead": 0,
           "arrowwidth": 1
          },
          "autotypenumbers": "strict",
          "coloraxis": {
           "colorbar": {
            "outlinewidth": 0,
            "ticks": ""
           }
          },
          "colorscale": {
           "diverging": [
            [
             0,
             "#8e0152"
            ],
            [
             0.1,
             "#c51b7d"
            ],
            [
             0.2,
             "#de77ae"
            ],
            [
             0.3,
             "#f1b6da"
            ],
            [
             0.4,
             "#fde0ef"
            ],
            [
             0.5,
             "#f7f7f7"
            ],
            [
             0.6,
             "#e6f5d0"
            ],
            [
             0.7,
             "#b8e186"
            ],
            [
             0.8,
             "#7fbc41"
            ],
            [
             0.9,
             "#4d9221"
            ],
            [
             1,
             "#276419"
            ]
           ],
           "sequential": [
            [
             0,
             "#0d0887"
            ],
            [
             0.1111111111111111,
             "#46039f"
            ],
            [
             0.2222222222222222,
             "#7201a8"
            ],
            [
             0.3333333333333333,
             "#9c179e"
            ],
            [
             0.4444444444444444,
             "#bd3786"
            ],
            [
             0.5555555555555556,
             "#d8576b"
            ],
            [
             0.6666666666666666,
             "#ed7953"
            ],
            [
             0.7777777777777778,
             "#fb9f3a"
            ],
            [
             0.8888888888888888,
             "#fdca26"
            ],
            [
             1,
             "#f0f921"
            ]
           ],
           "sequentialminus": [
            [
             0,
             "#0d0887"
            ],
            [
             0.1111111111111111,
             "#46039f"
            ],
            [
             0.2222222222222222,
             "#7201a8"
            ],
            [
             0.3333333333333333,
             "#9c179e"
            ],
            [
             0.4444444444444444,
             "#bd3786"
            ],
            [
             0.5555555555555556,
             "#d8576b"
            ],
            [
             0.6666666666666666,
             "#ed7953"
            ],
            [
             0.7777777777777778,
             "#fb9f3a"
            ],
            [
             0.8888888888888888,
             "#fdca26"
            ],
            [
             1,
             "#f0f921"
            ]
           ]
          },
          "colorway": [
           "#636efa",
           "#EF553B",
           "#00cc96",
           "#ab63fa",
           "#FFA15A",
           "#19d3f3",
           "#FF6692",
           "#B6E880",
           "#FF97FF",
           "#FECB52"
          ],
          "font": {
           "color": "#2a3f5f"
          },
          "geo": {
           "bgcolor": "white",
           "lakecolor": "white",
           "landcolor": "#E5ECF6",
           "showlakes": true,
           "showland": true,
           "subunitcolor": "white"
          },
          "hoverlabel": {
           "align": "left"
          },
          "hovermode": "closest",
          "mapbox": {
           "style": "light"
          },
          "paper_bgcolor": "white",
          "plot_bgcolor": "#E5ECF6",
          "polar": {
           "angularaxis": {
            "gridcolor": "white",
            "linecolor": "white",
            "ticks": ""
           },
           "bgcolor": "#E5ECF6",
           "radialaxis": {
            "gridcolor": "white",
            "linecolor": "white",
            "ticks": ""
           }
          },
          "scene": {
           "xaxis": {
            "backgroundcolor": "#E5ECF6",
            "gridcolor": "white",
            "gridwidth": 2,
            "linecolor": "white",
            "showbackground": true,
            "ticks": "",
            "zerolinecolor": "white"
           },
           "yaxis": {
            "backgroundcolor": "#E5ECF6",
            "gridcolor": "white",
            "gridwidth": 2,
            "linecolor": "white",
            "showbackground": true,
            "ticks": "",
            "zerolinecolor": "white"
           },
           "zaxis": {
            "backgroundcolor": "#E5ECF6",
            "gridcolor": "white",
            "gridwidth": 2,
            "linecolor": "white",
            "showbackground": true,
            "ticks": "",
            "zerolinecolor": "white"
           }
          },
          "shapedefaults": {
           "line": {
            "color": "#2a3f5f"
           }
          },
          "ternary": {
           "aaxis": {
            "gridcolor": "white",
            "linecolor": "white",
            "ticks": ""
           },
           "baxis": {
            "gridcolor": "white",
            "linecolor": "white",
            "ticks": ""
           },
           "bgcolor": "#E5ECF6",
           "caxis": {
            "gridcolor": "white",
            "linecolor": "white",
            "ticks": ""
           }
          },
          "title": {
           "x": 0.05
          },
          "xaxis": {
           "automargin": true,
           "gridcolor": "white",
           "linecolor": "white",
           "ticks": "",
           "title": {
            "standoff": 15
           },
           "zerolinecolor": "white",
           "zerolinewidth": 2
          },
          "yaxis": {
           "automargin": true,
           "gridcolor": "white",
           "linecolor": "white",
           "ticks": "",
           "title": {
            "standoff": 15
           },
           "zerolinecolor": "white",
           "zerolinewidth": 2
          }
         }
        },
        "title": {
         "text": "Correlação entre a sobrevivência no ensino primário vs gastos governamentais"
        }
       }
      },
      "text/html": [
       "<div>                            <div id=\"d8c3beea-0644-4e0e-9727-b225915b42d2\" class=\"plotly-graph-div\" style=\"height:525px; width:100%;\"></div>            <script type=\"text/javascript\">                require([\"plotly\"], function(Plotly) {                    window.PLOTLYENV=window.PLOTLYENV || {};                                    if (document.getElementById(\"d8c3beea-0644-4e0e-9727-b225915b42d2\")) {                    Plotly.newPlot(                        \"d8c3beea-0644-4e0e-9727-b225915b42d2\",                        [{\"coloraxis\":\"coloraxis\",\"geo\":\"geo\",\"hovertemplate\":\"<b>%{hovertext}</b><br><br>Country=%{location}<br>Correlation=%{z}<extra></extra>\",\"hovertext\":[\"Albania\",\"Andorra\",\"Argentina\",\"Armenia\",\"Austria\",\"Azerbaijan\",\"Bahrain\",\"Barbados\",\"Belarus\",\"Belgium\",\"Belize\",\"Benin\",\"Bhutan\",\"Bolivia (Plurinational State of)\",\"Bosnia and Herzegovina\",\"Bulgaria\",\"Burkina Faso\",\"Burundi\",\"Cabo Verde\",\"Cambodia\",\"Cameroon\",\"Chad\",\"Chile\",\"China, Hong Kong Special Administrative Region\",\"China, Macao Special Administrative Region\",\"Colombia\",\"Costa Rica\",\"Croatia\",\"Cyprus\",\"Czechia\",\"C\\u00f4te d'Ivoire\",\"Denmark\",\"Djibouti\",\"Dominican Republic\",\"Ecuador\",\"Egypt\",\"El Salvador\",\"Estonia\",\"Finland\",\"Gambia\",\"Georgia\",\"Ghana\",\"Greece\",\"Grenada\",\"Guatemala\",\"Hungary\",\"Iceland\",\"India\",\"Israel\",\"Italy\",\"Jamaica\",\"Jordan\",\"Kazakhstan\",\"Kyrgyzstan\",\"Latvia\",\"Lithuania\",\"Luxembourg\",\"Madagascar\",\"Malawi\",\"Malaysia\",\"Maldives\",\"Malta\",\"Marshall Islands\",\"Mauritius\",\"Mexico\",\"Mongolia\",\"Mozambique\",\"Namibia\",\"Norway\",\"Oman\",\"Pakistan\",\"Palestine\",\"Paraguay\",\"Peru\",\"Poland\",\"Portugal\",\"Qatar\",\"Republic of Korea\",\"Republic of Moldova\",\"Romania\",\"Russian Federation\",\"Rwanda\",\"Saint Lucia\",\"Saint Vincent and the Grenadines\",\"San Marino\",\"Serbia\",\"Sierra Leone\",\"Singapore\",\"Slovakia\",\"Slovenia\",\"South Africa\",\"Spain\",\"Sri Lanka\",\"Sweden\",\"Switzerland\",\"Timor-Leste\",\"T\\u00fcrkiye\",\"Ukraine\",\"United Kingdom of Great Britain and Northern Ireland\",\"United Republic of Tanzania\",\"United States of America\",\"Uruguay\",\"Uzbekistan\",\"Vanuatu\",\"Zimbabwe\"],\"locationmode\":\"country names\",\"locations\":[\"Albania\",\"Andorra\",\"Argentina\",\"Armenia\",\"Austria\",\"Azerbaijan\",\"Bahrain\",\"Barbados\",\"Belarus\",\"Belgium\",\"Belize\",\"Benin\",\"Bhutan\",\"Bolivia (Plurinational State of)\",\"Bosnia and Herzegovina\",\"Bulgaria\",\"Burkina Faso\",\"Burundi\",\"Cabo Verde\",\"Cambodia\",\"Cameroon\",\"Chad\",\"Chile\",\"China, Hong Kong Special Administrative Region\",\"China, Macao Special Administrative Region\",\"Colombia\",\"Costa Rica\",\"Croatia\",\"Cyprus\",\"Czechia\",\"C\\u00f4te d'Ivoire\",\"Denmark\",\"Djibouti\",\"Dominican Republic\",\"Ecuador\",\"Egypt\",\"El Salvador\",\"Estonia\",\"Finland\",\"Gambia\",\"Georgia\",\"Ghana\",\"Greece\",\"Grenada\",\"Guatemala\",\"Hungary\",\"Iceland\",\"India\",\"Israel\",\"Italy\",\"Jamaica\",\"Jordan\",\"Kazakhstan\",\"Kyrgyzstan\",\"Latvia\",\"Lithuania\",\"Luxembourg\",\"Madagascar\",\"Malawi\",\"Malaysia\",\"Maldives\",\"Malta\",\"Marshall Islands\",\"Mauritius\",\"Mexico\",\"Mongolia\",\"Mozambique\",\"Namibia\",\"Norway\",\"Oman\",\"Pakistan\",\"Palestine\",\"Paraguay\",\"Peru\",\"Poland\",\"Portugal\",\"Qatar\",\"Republic of Korea\",\"Republic of Moldova\",\"Romania\",\"Russian Federation\",\"Rwanda\",\"Saint Lucia\",\"Saint Vincent and the Grenadines\",\"San Marino\",\"Serbia\",\"Sierra Leone\",\"Singapore\",\"Slovakia\",\"Slovenia\",\"South Africa\",\"Spain\",\"Sri Lanka\",\"Sweden\",\"Switzerland\",\"Timor-Leste\",\"T\\u00fcrkiye\",\"Ukraine\",\"United Kingdom of Great Britain and Northern Ireland\",\"United Republic of Tanzania\",\"United States of America\",\"Uruguay\",\"Uzbekistan\",\"Vanuatu\",\"Zimbabwe\"],\"name\":\"\",\"z\":[0.0010981506292621398,-3.282548007348897e-05,-0.0010084071928348442,0.001054708541343679,-4.274718471378342e-06,0.014296977116660389,-1.588481176225194e-17,0.00016463848125624231,0.00024077918525562545,2.9101831576786728e-05,-0.0005066487572318845,1.797128127271855e-16,null,-4.158031840936914e-07,-0.0009045967771933339,0.0004264133039065018,-0.13335096912364502,-0.012057297910153197,-4.95253387201239e-18,1.3102386127994886e-16,0.31162140681009104,5.183874824720298e-17,-8.320367550348421e-05,-0.004390990135925451,9.971141203187492e-05,-6.826738670375226e-05,-4.24884769382818e-18,0.0004559482187169885,-5.6816394741540907e-05,4.801263434269647e-05,0.0023416488135276064,-3.0508864788637578e-06,null,-0.017761634507198355,0.0003131903707542867,0.030730714870606475,-4.353342969699922e-05,3.92935643391022e-06,1.141843596592276e-05,null,-0.00018901746577415618,3.1777498684300344e-17,0.00024162805236050612,-5.3173292405265164e-18,-0.001529312035260436,-6.628259096329577e-06,0.0006756792382664953,0.0005103004730306145,-4.47335444833542e-05,5.8114575238468986e-05,-3.3281998686111316e-05,0.0008663049351901602,-0.0009936702001858246,9.162474998557123e-05,0.0003744857577135557,0.0011416884537073023,-1.5910037609523179e-18,null,null,0.0016169723512169786,-5.521967577698076e-18,-0.00020387119466613377,-1.5751740985242443e-18,6.565332391608436e-05,-0.00017202662421327887,1.204194996307875e-19,0.03384322380882171,6.641948015635043e-18,-1.6660698149440043e-05,-0.0005124511660161825,-1.760548200285632e-18,-3.404156148900081e-18,-8.963655740595506e-18,0.00047019768985134906,-1.8568188612877404e-05,3.37014652349297e-05,-0.06986969972755756,0.00011751049522084804,0.0002697713715133259,0.0004253248501054894,4.363807392052381e-18,-0.038538211593028095,-0.0002961475486771028,-4.902463211135766e-18,-0.0019598535178114444,0.001945735984048516,0.08977340620193944,4.680255533610129e-05,0.0007872085338620377,-7.077747851007502e-05,0.0010741800556348094,1.4761948098616016e-05,0.0003280711531273628,3.1978236839232656e-06,-1.0325756844339921e-05,1.480610801618968e-16,-9.751864639974624e-06,-6.258849404655238e-05,-0.00011349984302639266,0.05757362773459233,-0.0017907080301938349,7.546349911547395e-05,0.0025541188280650165,0.014649379194302394,-0.02236744431498634],\"type\":\"choropleth\"}],                        {\"template\":{\"data\":{\"histogram2dcontour\":[{\"type\":\"histogram2dcontour\",\"colorbar\":{\"outlinewidth\":0,\"ticks\":\"\"},\"colorscale\":[[0.0,\"#0d0887\"],[0.1111111111111111,\"#46039f\"],[0.2222222222222222,\"#7201a8\"],[0.3333333333333333,\"#9c179e\"],[0.4444444444444444,\"#bd3786\"],[0.5555555555555556,\"#d8576b\"],[0.6666666666666666,\"#ed7953\"],[0.7777777777777778,\"#fb9f3a\"],[0.8888888888888888,\"#fdca26\"],[1.0,\"#f0f921\"]]}],\"choropleth\":[{\"type\":\"choropleth\",\"colorbar\":{\"outlinewidth\":0,\"ticks\":\"\"}}],\"histogram2d\":[{\"type\":\"histogram2d\",\"colorbar\":{\"outlinewidth\":0,\"ticks\":\"\"},\"colorscale\":[[0.0,\"#0d0887\"],[0.1111111111111111,\"#46039f\"],[0.2222222222222222,\"#7201a8\"],[0.3333333333333333,\"#9c179e\"],[0.4444444444444444,\"#bd3786\"],[0.5555555555555556,\"#d8576b\"],[0.6666666666666666,\"#ed7953\"],[0.7777777777777778,\"#fb9f3a\"],[0.8888888888888888,\"#fdca26\"],[1.0,\"#f0f921\"]]}],\"heatmap\":[{\"type\":\"heatmap\",\"colorbar\":{\"outlinewidth\":0,\"ticks\":\"\"},\"colorscale\":[[0.0,\"#0d0887\"],[0.1111111111111111,\"#46039f\"],[0.2222222222222222,\"#7201a8\"],[0.3333333333333333,\"#9c179e\"],[0.4444444444444444,\"#bd3786\"],[0.5555555555555556,\"#d8576b\"],[0.6666666666666666,\"#ed7953\"],[0.7777777777777778,\"#fb9f3a\"],[0.8888888888888888,\"#fdca26\"],[1.0,\"#f0f921\"]]}],\"heatmapgl\":[{\"type\":\"heatmapgl\",\"colorbar\":{\"outlinewidth\":0,\"ticks\":\"\"},\"colorscale\":[[0.0,\"#0d0887\"],[0.1111111111111111,\"#46039f\"],[0.2222222222222222,\"#7201a8\"],[0.3333333333333333,\"#9c179e\"],[0.4444444444444444,\"#bd3786\"],[0.5555555555555556,\"#d8576b\"],[0.6666666666666666,\"#ed7953\"],[0.7777777777777778,\"#fb9f3a\"],[0.8888888888888888,\"#fdca26\"],[1.0,\"#f0f921\"]]}],\"contourcarpet\":[{\"type\":\"contourcarpet\",\"colorbar\":{\"outlinewidth\":0,\"ticks\":\"\"}}],\"contour\":[{\"type\":\"contour\",\"colorbar\":{\"outlinewidth\":0,\"ticks\":\"\"},\"colorscale\":[[0.0,\"#0d0887\"],[0.1111111111111111,\"#46039f\"],[0.2222222222222222,\"#7201a8\"],[0.3333333333333333,\"#9c179e\"],[0.4444444444444444,\"#bd3786\"],[0.5555555555555556,\"#d8576b\"],[0.6666666666666666,\"#ed7953\"],[0.7777777777777778,\"#fb9f3a\"],[0.8888888888888888,\"#fdca26\"],[1.0,\"#f0f921\"]]}],\"surface\":[{\"type\":\"surface\",\"colorbar\":{\"outlinewidth\":0,\"ticks\":\"\"},\"colorscale\":[[0.0,\"#0d0887\"],[0.1111111111111111,\"#46039f\"],[0.2222222222222222,\"#7201a8\"],[0.3333333333333333,\"#9c179e\"],[0.4444444444444444,\"#bd3786\"],[0.5555555555555556,\"#d8576b\"],[0.6666666666666666,\"#ed7953\"],[0.7777777777777778,\"#fb9f3a\"],[0.8888888888888888,\"#fdca26\"],[1.0,\"#f0f921\"]]}],\"mesh3d\":[{\"type\":\"mesh3d\",\"colorbar\":{\"outlinewidth\":0,\"ticks\":\"\"}}],\"scatter\":[{\"fillpattern\":{\"fillmode\":\"overlay\",\"size\":10,\"solidity\":0.2},\"type\":\"scatter\"}],\"parcoords\":[{\"type\":\"parcoords\",\"line\":{\"colorbar\":{\"outlinewidth\":0,\"ticks\":\"\"}}}],\"scatterpolargl\":[{\"type\":\"scatterpolargl\",\"marker\":{\"colorbar\":{\"outlinewidth\":0,\"ticks\":\"\"}}}],\"bar\":[{\"error_x\":{\"color\":\"#2a3f5f\"},\"error_y\":{\"color\":\"#2a3f5f\"},\"marker\":{\"line\":{\"color\":\"#E5ECF6\",\"width\":0.5},\"pattern\":{\"fillmode\":\"overlay\",\"size\":10,\"solidity\":0.2}},\"type\":\"bar\"}],\"scattergeo\":[{\"type\":\"scattergeo\",\"marker\":{\"colorbar\":{\"outlinewidth\":0,\"ticks\":\"\"}}}],\"scatterpolar\":[{\"type\":\"scatterpolar\",\"marker\":{\"colorbar\":{\"outlinewidth\":0,\"ticks\":\"\"}}}],\"histogram\":[{\"marker\":{\"pattern\":{\"fillmode\":\"overlay\",\"size\":10,\"solidity\":0.2}},\"type\":\"histogram\"}],\"scattergl\":[{\"type\":\"scattergl\",\"marker\":{\"colorbar\":{\"outlinewidth\":0,\"ticks\":\"\"}}}],\"scatter3d\":[{\"type\":\"scatter3d\",\"line\":{\"colorbar\":{\"outlinewidth\":0,\"ticks\":\"\"}},\"marker\":{\"colorbar\":{\"outlinewidth\":0,\"ticks\":\"\"}}}],\"scattermapbox\":[{\"type\":\"scattermapbox\",\"marker\":{\"colorbar\":{\"outlinewidth\":0,\"ticks\":\"\"}}}],\"scatterternary\":[{\"type\":\"scatterternary\",\"marker\":{\"colorbar\":{\"outlinewidth\":0,\"ticks\":\"\"}}}],\"scattercarpet\":[{\"type\":\"scattercarpet\",\"marker\":{\"colorbar\":{\"outlinewidth\":0,\"ticks\":\"\"}}}],\"carpet\":[{\"aaxis\":{\"endlinecolor\":\"#2a3f5f\",\"gridcolor\":\"white\",\"linecolor\":\"white\",\"minorgridcolor\":\"white\",\"startlinecolor\":\"#2a3f5f\"},\"baxis\":{\"endlinecolor\":\"#2a3f5f\",\"gridcolor\":\"white\",\"linecolor\":\"white\",\"minorgridcolor\":\"white\",\"startlinecolor\":\"#2a3f5f\"},\"type\":\"carpet\"}],\"table\":[{\"cells\":{\"fill\":{\"color\":\"#EBF0F8\"},\"line\":{\"color\":\"white\"}},\"header\":{\"fill\":{\"color\":\"#C8D4E3\"},\"line\":{\"color\":\"white\"}},\"type\":\"table\"}],\"barpolar\":[{\"marker\":{\"line\":{\"color\":\"#E5ECF6\",\"width\":0.5},\"pattern\":{\"fillmode\":\"overlay\",\"size\":10,\"solidity\":0.2}},\"type\":\"barpolar\"}],\"pie\":[{\"automargin\":true,\"type\":\"pie\"}]},\"layout\":{\"autotypenumbers\":\"strict\",\"colorway\":[\"#636efa\",\"#EF553B\",\"#00cc96\",\"#ab63fa\",\"#FFA15A\",\"#19d3f3\",\"#FF6692\",\"#B6E880\",\"#FF97FF\",\"#FECB52\"],\"font\":{\"color\":\"#2a3f5f\"},\"hovermode\":\"closest\",\"hoverlabel\":{\"align\":\"left\"},\"paper_bgcolor\":\"white\",\"plot_bgcolor\":\"#E5ECF6\",\"polar\":{\"bgcolor\":\"#E5ECF6\",\"angularaxis\":{\"gridcolor\":\"white\",\"linecolor\":\"white\",\"ticks\":\"\"},\"radialaxis\":{\"gridcolor\":\"white\",\"linecolor\":\"white\",\"ticks\":\"\"}},\"ternary\":{\"bgcolor\":\"#E5ECF6\",\"aaxis\":{\"gridcolor\":\"white\",\"linecolor\":\"white\",\"ticks\":\"\"},\"baxis\":{\"gridcolor\":\"white\",\"linecolor\":\"white\",\"ticks\":\"\"},\"caxis\":{\"gridcolor\":\"white\",\"linecolor\":\"white\",\"ticks\":\"\"}},\"coloraxis\":{\"colorbar\":{\"outlinewidth\":0,\"ticks\":\"\"}},\"colorscale\":{\"sequential\":[[0.0,\"#0d0887\"],[0.1111111111111111,\"#46039f\"],[0.2222222222222222,\"#7201a8\"],[0.3333333333333333,\"#9c179e\"],[0.4444444444444444,\"#bd3786\"],[0.5555555555555556,\"#d8576b\"],[0.6666666666666666,\"#ed7953\"],[0.7777777777777778,\"#fb9f3a\"],[0.8888888888888888,\"#fdca26\"],[1.0,\"#f0f921\"]],\"sequentialminus\":[[0.0,\"#0d0887\"],[0.1111111111111111,\"#46039f\"],[0.2222222222222222,\"#7201a8\"],[0.3333333333333333,\"#9c179e\"],[0.4444444444444444,\"#bd3786\"],[0.5555555555555556,\"#d8576b\"],[0.6666666666666666,\"#ed7953\"],[0.7777777777777778,\"#fb9f3a\"],[0.8888888888888888,\"#fdca26\"],[1.0,\"#f0f921\"]],\"diverging\":[[0,\"#8e0152\"],[0.1,\"#c51b7d\"],[0.2,\"#de77ae\"],[0.3,\"#f1b6da\"],[0.4,\"#fde0ef\"],[0.5,\"#f7f7f7\"],[0.6,\"#e6f5d0\"],[0.7,\"#b8e186\"],[0.8,\"#7fbc41\"],[0.9,\"#4d9221\"],[1,\"#276419\"]]},\"xaxis\":{\"gridcolor\":\"white\",\"linecolor\":\"white\",\"ticks\":\"\",\"title\":{\"standoff\":15},\"zerolinecolor\":\"white\",\"automargin\":true,\"zerolinewidth\":2},\"yaxis\":{\"gridcolor\":\"white\",\"linecolor\":\"white\",\"ticks\":\"\",\"title\":{\"standoff\":15},\"zerolinecolor\":\"white\",\"automargin\":true,\"zerolinewidth\":2},\"scene\":{\"xaxis\":{\"backgroundcolor\":\"#E5ECF6\",\"gridcolor\":\"white\",\"linecolor\":\"white\",\"showbackground\":true,\"ticks\":\"\",\"zerolinecolor\":\"white\",\"gridwidth\":2},\"yaxis\":{\"backgroundcolor\":\"#E5ECF6\",\"gridcolor\":\"white\",\"linecolor\":\"white\",\"showbackground\":true,\"ticks\":\"\",\"zerolinecolor\":\"white\",\"gridwidth\":2},\"zaxis\":{\"backgroundcolor\":\"#E5ECF6\",\"gridcolor\":\"white\",\"linecolor\":\"white\",\"showbackground\":true,\"ticks\":\"\",\"zerolinecolor\":\"white\",\"gridwidth\":2}},\"shapedefaults\":{\"line\":{\"color\":\"#2a3f5f\"}},\"annotationdefaults\":{\"arrowcolor\":\"#2a3f5f\",\"arrowhead\":0,\"arrowwidth\":1},\"geo\":{\"bgcolor\":\"white\",\"landcolor\":\"#E5ECF6\",\"subunitcolor\":\"white\",\"showland\":true,\"showlakes\":true,\"lakecolor\":\"white\"},\"title\":{\"x\":0.05},\"mapbox\":{\"style\":\"light\"}}},\"geo\":{\"domain\":{\"x\":[0.0,1.0],\"y\":[0.0,1.0]},\"center\":{},\"projection\":{\"type\":\"equirectangular\"},\"showframe\":false,\"showcoastlines\":true},\"coloraxis\":{\"colorbar\":{\"title\":{\"text\":\"Correlation\"}},\"colorscale\":[[0.0,\"rgb(142,1,82)\"],[0.1,\"rgb(197,27,125)\"],[0.2,\"rgb(222,119,174)\"],[0.3,\"rgb(241,182,218)\"],[0.4,\"rgb(253,224,239)\"],[0.5,\"rgb(247,247,247)\"],[0.6,\"rgb(230,245,208)\"],[0.7,\"rgb(184,225,134)\"],[0.8,\"rgb(127,188,65)\"],[0.9,\"rgb(77,146,33)\"],[1.0,\"rgb(39,100,25)\"]]},\"legend\":{\"tracegroupgap\":0},\"title\":{\"text\":\"Correla\\u00e7\\u00e3o entre a sobreviv\\u00eancia no ensino prim\\u00e1rio vs gastos governamentais\"}},                        {\"responsive\": true}                    ).then(function(){\n",
       "                            \n",
       "var gd = document.getElementById('d8c3beea-0644-4e0e-9727-b225915b42d2');\n",
       "var x = new MutationObserver(function (mutations, observer) {{\n",
       "        var display = window.getComputedStyle(gd).display;\n",
       "        if (!display || display === 'none') {{\n",
       "            console.log([gd, 'removed!']);\n",
       "            Plotly.purge(gd);\n",
       "            observer.disconnect();\n",
       "        }}\n",
       "}});\n",
       "\n",
       "// Listen for the removal of the full notebook cells\n",
       "var notebookContainer = gd.closest('#notebook-container');\n",
       "if (notebookContainer) {{\n",
       "    x.observe(notebookContainer, {childList: true});\n",
       "}}\n",
       "\n",
       "// Listen for the clearing of the current output cell\n",
       "var outputEl = gd.closest('.output');\n",
       "if (outputEl) {{\n",
       "    x.observe(outputEl, {childList: true});\n",
       "}}\n",
       "\n",
       "                        })                };                });            </script>        </div>"
      ]
     },
     "metadata": {},
     "output_type": "display_data"
    }
   ],
   "source": [
    "# Selecionar as colunas necessárias\n",
    "survival_rate_ed_filtered = survival_rate_ed[['Country', 'Time', 'Value']].rename(columns={'Value': 'Survival_Rate_Ed'})\n",
    "government_expenditure_filtered = government_expenditure[['Country', 'Time', 'Value']].rename(columns={'Value': 'Government_Expenditure'})\n",
    "\n",
    "# Combinar os datasets baseados em país e ano\n",
    "merged_data_exp = pd.merge(survival_rate_ed_filtered, government_expenditure_filtered, on=['Country', 'Time'])\n",
    "\n",
    "# Remover linhas com valores NaN\n",
    "cleaned_data_exp = merged_data_exp.dropna()\n",
    "\n",
    "# Calcular a correlação para cada país\n",
    "country_correlations_exp = cleaned_data_exp.groupby('Country').apply(\n",
    "    lambda x: x['Survival_Rate_Ed'].corr(x['Government_Expenditure'])\n",
    ").reset_index().rename(columns={0: 'Correlation'})\n",
    "\n",
    "# Criar o mapa com as correlações individuais dos países\n",
    "fig_map_exp = px.choropleth(country_correlations_exp, \n",
    "                            locations=\"Country\",\n",
    "                            locationmode='country names',\n",
    "                            color=\"Correlation\",\n",
    "                            hover_name=\"Country\",\n",
    "                            color_continuous_scale=px.colors.diverging.PiYG,\n",
    "                            title=\"Correlação entre a sobrevivência no ensino primário vs gastos governamentais\")\n",
    "\n",
    "# Atualizar o layout para melhor legibilidade\n",
    "fig_map_exp.update_layout(\n",
    "    geo=dict(showframe=False, showcoastlines=True, projection_type='equirectangular')\n",
    ")\n"
   ]
  },
  {
   "cell_type": "code",
   "execution_count": 48,
   "id": "ef9f6121",
   "metadata": {},
   "outputs": [
    {
     "data": {
      "text/plain": [
       "(                         Country  Correlation\n",
       " 20                      Cameroon     0.311621\n",
       " 86                  Sierra Leone     0.089773\n",
       " 99   United Republic of Tanzania     0.057574\n",
       " 66                    Mozambique     0.033843\n",
       " 35                         Egypt     0.030731\n",
       " 103                      Vanuatu     0.014649\n",
       " 5                     Azerbaijan     0.014297\n",
       " 102                   Uzbekistan     0.002554\n",
       " 30                 Côte d'Ivoire     0.002342\n",
       " 85                        Serbia     0.001946,\n",
       "                                             Country  Correlation\n",
       " 16                                     Burkina Faso    -0.133351\n",
       " 76                                            Qatar    -0.069870\n",
       " 81                                           Rwanda    -0.038538\n",
       " 104                                        Zimbabwe    -0.022367\n",
       " 33                               Dominican Republic    -0.017762\n",
       " 17                                          Burundi    -0.012057\n",
       " 23   China, Hong Kong Special Administrative Region    -0.004391\n",
       " 84                                       San Marino    -0.001960\n",
       " 100                        United States of America    -0.001791\n",
       " 44                                        Guatemala    -0.001529)"
      ]
     },
     "execution_count": 48,
     "metadata": {},
     "output_type": "execute_result"
    }
   ],
   "source": [
    "# Sort the correlations to get the top 10 highest and lowest correlations\n",
    "top_10_highest_correlations = country_correlations_exp.sort_values(by='Correlation', ascending=False).head(10)\n",
    "top_10_lowest_correlations = country_correlations_exp.sort_values(by='Correlation').head(10)\n",
    "\n",
    "top_10_highest_correlations, top_10_lowest_correlations"
   ]
  },
  {
   "cell_type": "markdown",
   "id": "fbf3f022",
   "metadata": {},
   "source": [
    "Correlações Positivas: Camarões (0.3116) mostra uma correlação positiva relativamente alta, indicando que um aumento nos gastos governamentais em educação está associado a uma maior taxa de crianças completando o ensino primário. Este pode ser um exemplo de como investimentos adequados em educação podem ter um impacto positivo na conclusão do ensino primário.\n",
    "Outros países como Serra Leoa e Tanzânia também mostram correlações positivas, embora mais fracas, sugerindo algum nível de associação entre os gastos e a taxa de conclusão do ensino primário.\n",
    "\n",
    "Correlações Negativas: Burkina Faso (-0.1334) mostra a correlação negativa mais significativa, sugerindo que, neste caso, maiores gastos governamentais em educação podem estar associados a uma menor taxa de conclusão do ensino primário. Isso pode indicar problemas de eficiência no uso dos recursos ou outros fatores contextuais que afetam negativamente a taxa de conclusão.\n",
    "Outros países como Catar e Ruanda também apresentam correlações negativas, embora mais fracas, indicando que o aumento dos gastos governamentais não está necessariamente resultando em melhores taxas de conclusão do ensino primário."
   ]
  },
  {
   "cell_type": "code",
   "execution_count": null,
   "id": "fe1de998",
   "metadata": {},
   "outputs": [],
   "source": []
  },
  {
   "cell_type": "code",
   "execution_count": null,
   "id": "3360ca39",
   "metadata": {},
   "outputs": [],
   "source": []
  }
 ],
 "metadata": {
  "kernelspec": {
   "display_name": "Python 3 (ipykernel)",
   "language": "python",
   "name": "python3"
  },
  "language_info": {
   "codemirror_mode": {
    "name": "ipython",
    "version": 3
   },
   "file_extension": ".py",
   "mimetype": "text/x-python",
   "name": "python",
   "nbconvert_exporter": "python",
   "pygments_lexer": "ipython3",
   "version": "3.9.13"
  }
 },
 "nbformat": 4,
 "nbformat_minor": 5
}
